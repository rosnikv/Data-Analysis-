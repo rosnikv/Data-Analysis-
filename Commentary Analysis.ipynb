{
 "cells": [
  {
   "cell_type": "code",
   "execution_count": 1,
   "metadata": {},
   "outputs": [],
   "source": [
    "## Collected Stop words\n",
    "ENGLISH_STOP_WORDS = [\n",
    "    \"a\", \"about\", \"above\", \"across\", \"after\", \"afterwards\", \"again\", \"against\",\n",
    "    \"all\", \"almost\", \"alone\", \"along\", \"already\", \"also\", \"although\", \"always\",\n",
    "    \"am\", \"among\", \"amongst\", \"amoungst\", \"amount\", \"an\", \"and\", \"another\",\n",
    "    \"any\", \"anyhow\", \"anyone\", \"anything\", \"anyway\", \"anywhere\", \"are\",\n",
    "    \"around\", \"as\", \"at\", \"back\", \"be\", \"became\", \"because\", \"become\",\n",
    "    \"becomes\", \"becoming\", \"been\", \"before\", \"beforehand\", \"behind\", \"being\",\n",
    "    \"below\", \"beside\", \"besides\", \"between\", \"beyond\", \"bill\", \"both\",\n",
    "    \"bottom\", \"but\", \"by\", \"call\", \"can\", \"cannot\", \"cant\", \"co\", \"con\",\n",
    "    \"could\", \"couldnt\", \"cry\", \"de\", \"describe\", \"detail\", \"do\", \"done\",\n",
    "    \"down\", \"due\", \"during\", \"each\", \"eg\", \"eight\", \"either\", \"eleven\", \"else\",\n",
    "    \"elsewhere\", \"empty\", \"enough\", \"etc\", \"even\", \"ever\", \"every\", \"everyone\",\n",
    "    \"everything\", \"everywhere\", \"except\", \"few\", \"fifteen\", \"fifty\", \"fill\",\n",
    "    \"find\", \"fire\", \"first\", \"five\", \"for\", \"former\", \"formerly\", \"forty\",\n",
    "    \"found\", \"four\", \"from\", \"front\", \"full\", \"further\", \"get\", \"give\", \"go\",\n",
    "    \"had\", \"has\", \"hasnt\", \"have\", \"he\", \"hence\", \"her\", \"here\", \"hereafter\",\n",
    "    \"hereby\", \"herein\", \"hereupon\", \"hers\", \"herself\", \"him\", \"himself\", \"his\",\n",
    "    \"how\", \"however\", \"hundred\", \"i\", \"ie\", \"if\", \"in\", \"inc\", \"indeed\",\n",
    "    \"interest\", \"into\", \"is\", \"it\", \"its\", \"itself\", \"keep\", \"last\", \"latter\",\n",
    "    \"latterly\", \"least\", \"less\", \"ltd\", \"made\", \"many\", \"may\", \"me\",\n",
    "    \"meanwhile\", \"might\", \"mill\", \"mine\", \"more\", \"moreover\", \"most\", \"mostly\",\n",
    "    \"move\", \"much\", \"must\", \"my\", \"myself\", \"name\", \"namely\", \"neither\",\n",
    "    \"never\", \"nevertheless\", \"next\", \"nine\", \"no\", \"nobody\", \"none\", \"noone\",\n",
    "    \"nor\", \"not\", \"nothing\", \"now\", \"nowhere\", \"of\", \"off\", \"often\", \"on\",\n",
    "    \"once\", \"one\", \"only\", \"onto\", \"or\", \"other\", \"others\", \"otherwise\", \"our\",\n",
    "    \"ours\", \"ourselves\", \"out\", \"over\", \"own\", \"part\", \"per\", \"perhaps\",\n",
    "    \"please\", \"put\", \"rather\", \"re\", \"same\", \"see\", \"seem\", \"seemed\",\n",
    "    \"seeming\", \"seems\", \"serious\", \"several\", \"she\", \"should\", \"show\", \"side\",\n",
    "    \"since\", \"sincere\", \"six\", \"sixty\", \"so\", \"some\", \"somehow\", \"someone\",\n",
    "    \"something\", \"sometime\", \"sometimes\", \"somewhere\", \"still\", \"such\",\n",
    "    \"system\", \"take\", \"ten\", \"than\", \"that\", \"the\", \"their\", \"them\",\n",
    "    \"themselves\", \"then\", \"thence\", \"there\", \"thereafter\", \"thereby\",\n",
    "    \"therefore\", \"therein\", \"thereupon\", \"these\", \"they\", \"thick\", \"thin\",\n",
    "    \"third\", \"this\", \"those\", \"though\", \"three\", \"through\", \"throughout\",\n",
    "    \"thru\", \"thus\", \"to\", \"together\", \"too\", \"top\", \"toward\", \"towards\",\n",
    "    \"twelve\", \"twenty\", \"two\", \"un\", \"under\", \"until\", \"up\", \"upon\", \"us\",\n",
    "    \"very\", \"via\", \"was\", \"we\", \"well\", \"were\", \"what\", \"whatever\", \"when\",\n",
    "    \"whence\", \"whenever\", \"where\", \"whereafter\", \"whereas\", \"whereby\",\n",
    "    \"wherein\", \"whereupon\", \"wherever\", \"whether\", \"which\", \"while\", \"whither\",\n",
    "    \"who\", \"whoever\", \"whole\", \"whom\", \"whose\", \"why\", \"will\", \"with\",\n",
    "    \"within\", \"without\", \"would\", \"yet\", \"you\", \"your\", \"yours\", \"yourself\",\n",
    "    \"yourselves\"]\n"
   ]
  },
  {
   "cell_type": "code",
   "execution_count": 2,
   "metadata": {},
   "outputs": [],
   "source": [
    "## Lemmatize each token of the given document\n",
    "from nltk import word_tokenize          \n",
    "from nltk.stem import WordNetLemmatizer\n",
    "\n",
    "class LemmaTokenizer(object):\n",
    "    def __init__(self):\n",
    "        self.wnl = WordNetLemmatizer()\n",
    "    def __call__(self, doc):\n",
    "        return [self.wnl.lemmatize(t) for t in word_tokenize(doc)]\n"
   ]
  },
  {
   "cell_type": "code",
   "execution_count": 3,
   "metadata": {},
   "outputs": [
    {
     "data": {
      "text/html": [
       "<div>\n",
       "<style scoped>\n",
       "    .dataframe tbody tr th:only-of-type {\n",
       "        vertical-align: middle;\n",
       "    }\n",
       "\n",
       "    .dataframe tbody tr th {\n",
       "        vertical-align: top;\n",
       "    }\n",
       "\n",
       "    .dataframe thead th {\n",
       "        text-align: right;\n",
       "    }\n",
       "</style>\n",
       "<table border=\"1\" class=\"dataframe\">\n",
       "  <thead>\n",
       "    <tr style=\"text-align: right;\">\n",
       "      <th></th>\n",
       "      <th>ID</th>\n",
       "      <th>Match_ID</th>\n",
       "      <th>Over</th>\n",
       "      <th>Commentary</th>\n",
       "      <th>Over_Run_Total</th>\n",
       "      <th>Target</th>\n",
       "    </tr>\n",
       "  </thead>\n",
       "  <tbody>\n",
       "    <tr>\n",
       "      <th>0</th>\n",
       "      <td>0</td>\n",
       "      <td>803965640511</td>\n",
       "      <td>49.6</td>\n",
       "      <td>and india reach 300. there has been a 300 in ...</td>\n",
       "      <td>4</td>\n",
       "      <td>Run_Bw_Wickets</td>\n",
       "    </tr>\n",
       "    <tr>\n",
       "      <th>1</th>\n",
       "      <td>1</td>\n",
       "      <td>803965640511</td>\n",
       "      <td>49.5</td>\n",
       "      <td>slower ball, ashwin bunts this to leg for -99...</td>\n",
       "      <td>4</td>\n",
       "      <td>Run_Bw_Wickets</td>\n",
       "    </tr>\n",
       "    <tr>\n",
       "      <th>2</th>\n",
       "      <td>2</td>\n",
       "      <td>803965640511</td>\n",
       "      <td>49.4</td>\n",
       "      <td>full toss on off, he just slogs, gets a thick...</td>\n",
       "      <td>4</td>\n",
       "      <td>Run_Bw_Wickets</td>\n",
       "    </tr>\n",
       "    <tr>\n",
       "      <th>3</th>\n",
       "      <td>3</td>\n",
       "      <td>803965640511</td>\n",
       "      <td>49.3</td>\n",
       "      <td>that's the closest you'll get to a hat-trick ...</td>\n",
       "      <td>4</td>\n",
       "      <td>Dot</td>\n",
       "    </tr>\n",
       "    <tr>\n",
       "      <th>4</th>\n",
       "      <td>4</td>\n",
       "      <td>803965640511</td>\n",
       "      <td>49.2</td>\n",
       "      <td>sohail is doing the sajda after bowling rahan...</td>\n",
       "      <td>4</td>\n",
       "      <td>Wicket</td>\n",
       "    </tr>\n",
       "  </tbody>\n",
       "</table>\n",
       "</div>"
      ],
      "text/plain": [
       "   ID      Match_ID  Over                                         Commentary  \\\n",
       "0   0  803965640511  49.6   and india reach 300. there has been a 300 in ...   \n",
       "1   1  803965640511  49.5   slower ball, ashwin bunts this to leg for -99...   \n",
       "2   2  803965640511  49.4   full toss on off, he just slogs, gets a thick...   \n",
       "3   3  803965640511  49.3   that's the closest you'll get to a hat-trick ...   \n",
       "4   4  803965640511  49.2   sohail is doing the sajda after bowling rahan...   \n",
       "\n",
       "   Over_Run_Total          Target  \n",
       "0               4  Run_Bw_Wickets  \n",
       "1               4  Run_Bw_Wickets  \n",
       "2               4  Run_Bw_Wickets  \n",
       "3               4             Dot  \n",
       "4               4          Wicket  "
      ]
     },
     "execution_count": 3,
     "metadata": {},
     "output_type": "execute_result"
    }
   ],
   "source": [
    "## Load the data set \n",
    "import pandas as pd\n",
    "\n",
    "Data_actual = pd.read_excel(\"CCC_TrainingData.xlsx\")\n",
    "Data_actual.head()"
   ]
  },
  {
   "cell_type": "code",
   "execution_count": 4,
   "metadata": {},
   "outputs": [
    {
     "data": {
      "text/html": [
       "<div>\n",
       "<style scoped>\n",
       "    .dataframe tbody tr th:only-of-type {\n",
       "        vertical-align: middle;\n",
       "    }\n",
       "\n",
       "    .dataframe tbody tr th {\n",
       "        vertical-align: top;\n",
       "    }\n",
       "\n",
       "    .dataframe thead th {\n",
       "        text-align: right;\n",
       "    }\n",
       "</style>\n",
       "<table border=\"1\" class=\"dataframe\">\n",
       "  <thead>\n",
       "    <tr style=\"text-align: right;\">\n",
       "      <th></th>\n",
       "      <th>Over</th>\n",
       "      <th>Over_Run_Total</th>\n",
       "    </tr>\n",
       "  </thead>\n",
       "  <tbody>\n",
       "    <tr>\n",
       "      <th>count</th>\n",
       "      <td>101634.000000</td>\n",
       "      <td>101634.000000</td>\n",
       "    </tr>\n",
       "    <tr>\n",
       "      <th>mean</th>\n",
       "      <td>16.897594</td>\n",
       "      <td>6.357154</td>\n",
       "    </tr>\n",
       "    <tr>\n",
       "      <th>std</th>\n",
       "      <td>12.779404</td>\n",
       "      <td>4.377778</td>\n",
       "    </tr>\n",
       "    <tr>\n",
       "      <th>min</th>\n",
       "      <td>0.100000</td>\n",
       "      <td>0.000000</td>\n",
       "    </tr>\n",
       "    <tr>\n",
       "      <th>25%</th>\n",
       "      <td>6.600000</td>\n",
       "      <td>3.000000</td>\n",
       "    </tr>\n",
       "    <tr>\n",
       "      <th>50%</th>\n",
       "      <td>14.100000</td>\n",
       "      <td>6.000000</td>\n",
       "    </tr>\n",
       "    <tr>\n",
       "      <th>75%</th>\n",
       "      <td>24.500000</td>\n",
       "      <td>9.000000</td>\n",
       "    </tr>\n",
       "    <tr>\n",
       "      <th>max</th>\n",
       "      <td>49.600000</td>\n",
       "      <td>36.000000</td>\n",
       "    </tr>\n",
       "  </tbody>\n",
       "</table>\n",
       "</div>"
      ],
      "text/plain": [
       "                Over  Over_Run_Total\n",
       "count  101634.000000   101634.000000\n",
       "mean       16.897594        6.357154\n",
       "std        12.779404        4.377778\n",
       "min         0.100000        0.000000\n",
       "25%         6.600000        3.000000\n",
       "50%        14.100000        6.000000\n",
       "75%        24.500000        9.000000\n",
       "max        49.600000       36.000000"
      ]
     },
     "execution_count": 4,
     "metadata": {},
     "output_type": "execute_result"
    }
   ],
   "source": [
    "Data_actual[['Over','Over_Run_Total']].describe()"
   ]
  },
  {
   "cell_type": "code",
   "execution_count": 5,
   "metadata": {},
   "outputs": [],
   "source": [
    "Data = Data_actual.copy()\n",
    "Data['code'], mapping = pd.factorize(Data['Target'])\n",
    "y= Data['code']\n",
    "\n",
    "#Data['Over_Run_Total2'] = [1 if x >= 6 else 0 for x in Data['Over_Run_Total']]\n",
    "Data.drop('Target',axis=1,inplace=True)\n",
    "Data.drop('code',axis=1,inplace=True)"
   ]
  },
  {
   "cell_type": "code",
   "execution_count": 6,
   "metadata": {},
   "outputs": [],
   "source": [
    "# Normalizing the Over_Run_Total\n",
    "from sklearn.preprocessing import MinMaxScaler\n",
    "scaler = MinMaxScaler()\n",
    "Data['Over_Run_Total3'] = scaler.fit_transform(Data['Over_Run_Total'].values.reshape(-1,1))"
   ]
  },
  {
   "cell_type": "code",
   "execution_count": 7,
   "metadata": {
    "scrolled": false
   },
   "outputs": [
    {
     "name": "stderr",
     "output_type": "stream",
     "text": [
      "/home/u1364688/anaconda3/lib/python3.7/site-packages/sklearn/feature_extraction/text.py:300: UserWarning: Your stop_words may be inconsistent with your preprocessing. Tokenizing the stop words generated tokens ['ha', 'le', 'u', 'wa'] not in stop_words.\n",
      "  'stop_words.' % sorted(inconsistent))\n"
     ]
    }
   ],
   "source": [
    "from sklearn.model_selection import train_test_split\n",
    "X_train, X_test, y_train, y_test = train_test_split(Data, y, test_size=0.33, random_state=42)\n",
    "\n",
    "from scipy.sparse import hstack\n",
    "import numpy as np\n",
    "from sklearn.feature_extraction.text import CountVectorizer,TfidfVectorizer\n",
    "import re\n",
    "\n",
    "corpus = list(X_train[\"Commentary\"])\n",
    "corpus_length = []\n",
    "for c in range(len(corpus)):\n",
    "    corpus[c] = ' '.join(w for w in corpus[c].split() if not any(x.isdigit() for x in w))\n",
    "    corpus[c] = ' '.join(re.sub(r'[^\\d\\w\\s]','',w) for w in corpus[c].split() if len(w)>1)\n",
    "    corpus_length.append(len(corpus[c].split()))\n",
    "    \n",
    "vectorizer = TfidfVectorizer(stop_words=ENGLISH_STOP_WORDS,ngram_range=(1,2),tokenizer=LemmaTokenizer())\n",
    "X = vectorizer.fit_transform(corpus)"
   ]
  },
  {
   "cell_type": "code",
   "execution_count": 8,
   "metadata": {},
   "outputs": [
    {
     "name": "stderr",
     "output_type": "stream",
     "text": [
      "/home/u1364688/anaconda3/lib/python3.7/site-packages/sklearn/feature_extraction/text.py:300: UserWarning: Your stop_words may be inconsistent with your preprocessing. Tokenizing the stop words generated tokens ['aaaaaand', 'aaarrrgghh', 'aahs', 'aargh', 'aaron', 'ab', 'abandon', 'abandoned', 'abate', 'abbott', 'abd', 'abdomen', 'abds', 'abdur', 'abhishek', 'able', 'aborted', 'abound', 'absolutely', 'absurd', 'absurdly', 'abu', 'abuse', 'accelerator', 'accentuated', 'accepted', 'accepts', 'access', 'accolade', 'accompanying', 'accomplished', 'accord', 'according', 'accounted', 'accuracy', 'accused', 'accusingly', 'achieve', 'aching', 'acknowledged', 'acknowledgment', 'acrobatic', 'acrosstheline', 'act', 'acting', 'action', 'actionpacked', 'actually', 'actualy', 'ad', 'added', 'addition', 'additional', 'adeptly', 'adequate', 'adequately', 'adhered', 'adjacent', 'adjcaent', 'adjudged', 'adjust', 'adjusted', 'adjusts', 'admiration', 'admired', 'admiring', 'admit', 'advance', 'advanced', 'advancing', 'adventurous', 'advertising', 'advice', 'aerial', 'aerially', 'affair', 'affecting', 'affirmative', 'afford', 'afghan', 'afghanistan', 'afidi', 'afraid', 'africa', 'afridi', 'aftab', 'aftabs', 'againand', 'againwasnt', 'agar', 'agarkar', 'agarwal', 'age', 'ageing', 'aggression', 'aggressive', 'aggressiveness', 'agonisingly', 'agonisinglyfortuitously', 'agony', 'agree', 'agrees', 'agricultural', 'agriculturally', 'ah', 'ahead', 'ahmed', 'ahmedabad', 'ahnot', 'aid', 'aint', 'air', 'airily', 'airplanelike', 'airsamad', 'airtime', 'aisle', 'akhtar', 'akmal', 'akmals', 'akons', 'akrams', 'al', 'alam', 'alamin', 'alarming', 'albeit', 'aleem', 'ali', 'alien', 'alight', 'alive', 'allaction', 'allimportant', 'allow', 'allright', 'allrounder', 'allrun', 'alls', 'alltooeasy', 'alltoofamiliar', 'almighty', 'almostmandatory', 'almostyorker', 'aloft', 'alok', 'alonecarries', 'alright', 'alternating', 'alters', 'altogether', 'ama', 'amazed', 'amazingly', 'ambled', 'amdavadi', 'amends', 'amiably', 'amid', 'amidships', 'amidst', 'amir', 'amjad', 'amjads', 'amla', 'amlas', 'ample', 'amused', 'amusement', 'amusing', 'anam', 'anamul', 'ananthapadmanabhan', 'anchor', 'anderson', 'andheri', 'andy', 'angelo', 'anger', 'angle', 'angled', 'angledbat', 'angling', 'angry', 'anguish', 'angular', 'animated', 'ankit', 'announce', 'announces', 'anotherstraight', 'answered', 'ante', 'anthem', 'anticipate', 'anticipation', 'anuja', 'anushka', 'anwar', 'anxiety', 'apart', 'apds', 'aplomb', 'apologetic', 'apology', 'appalling', 'appear', 'appearance', 'appeared', 'appears', 'applauds', 'applies', 'appreciable', 'appreciably', 'appreciated', 'appreciatively', 'approach', 'appropriate', 'appropriately', 'aqib', 'arafat', 'aravind', 'arc', 'arched', 'arcing', 'areasuperb', 'arena', 'argue', 'argument', 'arm', 'armer', 'armswide', 'army', 'arnold', 'array', 'arrest', 'arrive', 'arrived', 'arrogance', 'arrogantly', 'arrowed', 'arsenal', 'artificial', 'asad', 'ash', 'ashish', 'ashraf', 'ashraful', 'ashrafuls', 'ashwins', 'aside', 'asked', 'asoka', 'aspire', 'assisted', 'assumed', 'assuming', 'assurance', 'astle', 'atacked', 'atand', 'atapattu', 'atherton', 'athlete', 'athletic', 'athleticism', 'atkinson', 'atom', 'atoning', 'attached', 'attack', 'attacked', 'attacking', 'attemped', 'attempt', 'attempted', 'attempting', 'attitude', 'attractivelooking', 'au', 'audacious', 'audacity', 'auspicious', 'aussiemate', 'australia', 'authoritatively', 'avail', 'available', 'avalanche', 'avert', 'averts', 'avoid', 'avoided', 'await', 'awaiting', 'awake', 'aware', 'awareness', 'awayswinger', 'awesome', 'aww', 'axar', 'axe', 'ayasha', 'azharuddin', 'b', 'ba', 'babe', 'backcut', 'backer', 'backhand', 'backlift', 'backofalength', 'backoutsidelegandtargetextracover', 'backpedaling', 'backpedalled', 'backpedals', 'backpeddles', 'backstop', 'backtrack', 'backtracked', 'backward', 'backwardsquare', 'bad', 'badge', 'badree', 'badrees', 'bag', 'bagais', 'bagged', 'bail', 'bailey', 'bairstow', 'baisya', 'bait', 'baiters', 'bala', 'balaji', 'balance', 'balanced', 'balbirnie', 'ball', 'balled', 'ballerinafast', 'ballet', 'ballistic', 'ballistics', 'ballooning', 'ballpowell', 'ballsa', 'ballsed', 'bamboozle', 'bamboozles', 'band', 'bang', 'banging', 'bangladesh', 'bangladeshi', 'banishes', 'bank', 'bansheelike', 'barely', 'bargain', 'barging', 'barkat', 'barn', 'barnett', 'barnetts', 'barrage', 'barrel', 'barreling', 'barrell', 'barresi', 'bash', 'bashars', 'bashed', 'basher', 'basically', 'batangle', 'bates', 'batman', 'batpad', 'batsman', 'batswing', 'battered', 'baugh', 'baughs', 'bazooka', 'bckward', 'beach', 'bearded', 'beast', 'beatenm', 'beating', 'beaut', 'beautifully', 'beauty', 'becomse', 'bedding', 'beef', 'beek', 'beenbut', 'began', 'begging', 'begun', 'behalf', 'behardiem', 'behaves', 'belatedly', 'believed', 'bell', 'belligerent', 'belongs', 'belowwaist', 'belt', 'belted', 'belting', 'bemused', 'bemusement', 'ben', 'bend', 'bended', 'beneath', 'benn', 'bennett', 'benson', 'bent', 'bentknee', 'berenger', 'bermuda', 'berrington', 'best', 'bestever', 'besting', 'better', 'bettering', 'betweenthelegs', 'beware', 'bewildered', 'bewitching', 'bhajji', 'bhatia', 'bhatias', 'bhatti', 'bhubi', 'bhuvis', 'bhuvneshwar', 'bicep', 'bid', 'bides', 'biding', 'biff', 'biffed', 'big', 'bigger', 'biggest', 'biggie', 'bighitting', 'billcliff', 'billion', 'billy', 'binny', 'binnys', 'binoy', 'bipul', 'biryani', 'bisect', 'bisected', 'bisecting', 'bisects', 'bishoo', 'bishop', 'bisla', 'bite', 'bitsy', 'bizarre', 'bizarroworld', 'black', 'blame', 'blare', 'blast', 'blaze', 'blazed', 'blazing', 'bleeding', 'blinder', 'blink', 'blistering', 'blitz', 'blitzed', 'blitzing', 'blocked', 'blockhole', 'blood', 'bloody', 'blow', 'blown', 'bludgeon', 'bludgeoned', 'blunder', 'blunted', 'blur', 'blurred', 'bluster', 'board', 'bob', 'bobbing', 'bobble', 'bobbled', 'bobbly', 'bodied', 'bodily', 'body', 'boing', 'boks', 'bold', 'bollywood', 'bomb', 'bombardment', 'bona', 'bond', 'bone', 'bonkers', 'bonus', 'book', 'boom', 'boon', 'booo', 'boot', 'boparas', 'borden', 'border', 'bordering', 'bored', 'borren', 'borrens', 'borrn', 'bosh', 'boshed', 'bosman', 'bossed', 'botha', 'bothas', 'bothered', 'bottle', 'bottomedges', 'bottomhalf', 'bottomhand', 'bottomhanded', 'boucer', 'boucher', 'bouchers', 'bounary', 'bounce', 'bounced', 'bounceflies', 'bouncy', 'boundarybeen', 'boundarygot', 'boundaryless', 'boundarythats', 'boundaryy', 'bounday', 'boundayr', 'boundry', 'bow', 'bowden', 'bower', 'bowl', 'bowled', 'bowler', 'bowlertrott', 'bowling', 'box', 'boxer', 'bracken', 'bracket', 'braithwaite', 'brake', 'bravo', 'brayits', 'bread', 'breadandbutter', 'break', 'breakdown', 'breakfree', 'breaking', 'breakthrough', 'breath', 'breathe', 'breathless', 'breathtaking', 'breeze', 'brendan', 'brent', 'bresnan', 'bresnans', 'brett', 'brewery', 'brief', 'briefly', 'brien', 'brilliantly', 'brillliant', 'bring', 'brings', 'brisk', 'bristle', 'broad', 'broke', 'brother', 'brought', 'brown', 'brunt', 'brush', 'brutal', 'brutalised', 'bucket', 'bud', 'budge', 'buffet', 'buhbye', 'build', 'built', 'bukhari', 'bukharis', 'bull', 'bullcharge', 'bullet', 'bullish', 'bullseye', 'bully', 'bumbles', 'bump', 'bumping', 'bumrah', 'bundle', 'bunger', 'bunging', 'bunting', 'burgle', 'burly', 'burning', 'burrow', 'burst', 'busily', 'bust', 'busy', 'butits', 'butler', 'butt', 'butter', 'buttlers', 'button', 'buzz', 'bye', 'byootifal', 'cacophonous', 'cagey', 'cagily', 'calamitous', 'calculated', 'calculative', 'callunderstandably', 'calm', 'calmer', 'calmly', 'calum', 'came', 'cameo', 'camera', 'camp', 'campaign', 'campaigner', 'camping', 'canadian', 'cane', 'cann', 'cap', 'capacity', 'capitalised', 'capitalises', 'cappo', 'captain', 'car', 'card', 'care', 'careening', 'career', 'careerbest', 'careful', 'careless', 'caress', 'caressed', 'caressing', 'caretully', 'caribbean', 'carlos', 'carnage', 'carrom', 'carrying', 'cart', 'carted', 'cartwheeling', 'carve', 'carved', 'carves', 'carving', 'cash', 'cashing', 'casual', 'casually', 'cat', 'catch', 'catchable', 'catchbut', 'catching', 'caught', 'caughtbehind', 'caughtby', 'cause', 'caution', 'cautiously', 'cecilia', 'celebrate', 'celebrates', 'celebration', 'celebratory', 'cement', 'centimetre', 'centre', 'certainly', 'chagrin', 'chahal', 'chainsaw', 'chaka', 'challenge', 'chamari', 'chaminda', 'champion', 'chancing', 'chand', 'chanderpaul', 'chanders', 'chandi', 'change', 'changed', 'changeup', 'changing', 'chappell', 'character', 'charade', 'charge', 'charged', 'charles', 'charlottle', 'charm', 'charming', 'chase', 'chased', 'chasing', 'chatara', 'chaudhary', 'chawla', 'chawlas', 'cheat', 'checkdrive', 'checkdriven', 'checkdrives', 'checking', 'cheek', 'cheekily', 'cheeky', 'cheer', 'cheese', 'chennai', 'cherry', 'chest', 'chestheight', 'chesthigh', 'chetty', 'chg', 'chibhabha', 'chicken', 'chigumbura', 'child', 'chin', 'chinese', 'chinnaswamy', 'chipped', 'chipping', 'chirp', 'chittagong', 'chnageup', 'chocolate', 'chohan', 'choice', 'chokehold', 'chop', 'chopping', 'chopsteer', 'chose', 'chosen', 'chris', 'chug', 'circe', 'circle', 'circling', 'ck', 'claim', 'claimed', 'clamped', 'clanger', 'clapped', 'clarke', 'clarker', 'clarkes', 'clasp', 'clasped', 'clasping', 'class', 'classical', 'clattered', 'clattering', 'clean', 'cleaned', 'cleaning', 'cleanly', 'clear', 'cleared', 'cleverly', 'cling', 'clinging', 'clinical', 'clip', 'clipped', 'clobber', 'clobbered', 'clocked', 'clog', 'clone', 'clonked', 'close', 'closed', 'closely', 'closer', 'closing', 'cloth', 'clothes', 'cloud', 'clouted', 'club', 'clubbed', 'clubbing', 'clueless', 'clumn', 'clump', 'clumped', 'clumsy', 'clung', 'clunk', 'clunked', 'clunking', 'clutching', 'coach', 'coaching', 'coax', 'cock', 'coetzer', 'coil', 'colaba', 'coleman', 'colin', 'collapse', 'collect', 'collected', 'collide', 'collided', 'collidelooks', 'collides', 'collingwood', 'collingwoods', 'collins', 'collision', 'colly', 'collymore', 'collymores', 'column', 'combat', 'combination', 'combineharvester', 'come', 'comeback', 'comfort', 'comfortable', 'comic', 'comically', 'coming', 'command', 'commanding', 'comment', 'commentary', 'commentator', 'commenters', 'commit', 'compactly', 'compacto', 'compels', 'competently', 'competitive', 'complacent', 'complete', 'completed', 'completely', 'completes', 'completing', 'complicated', 'composed', 'composure', 'compulsion', 'concede', 'concedes', 'conceding', 'concentration', 'conclusion', 'conclusive', 'concrete', 'condition', 'confer', 'confidence', 'confident', 'confidently', 'confirmation', 'confirmed', 'confirming', 'confound', 'confrere', 'conga', 'congratulate', 'congratulates', 'congratulation', 'connection', 'connects', 'conscious', 'consecutive', 'consider', 'considerably', 'consideration', 'considered', 'consistency', 'consistent', 'consolation', 'console', 'constantly', 'construct', 'constructing', 'consulted', 'consumes', 'consummate', 'contend', 'contender', 'contention', 'contest', 'contingent', 'continue', 'continued', 'contorting', 'contorts', 'contrast', 'contrasting', 'control', 'controlling', 'conveniently', 'conventional', 'converge', 'converging', 'convert', 'conviction', 'convinced', 'convincingly', 'convoluted', 'cool', 'coolly', 'cooper', 'coordination', 'cop', 'copy', 'copybook', 'copyrighting', 'cordon', 'corey', 'corking', 'cornered', 'correct', 'corrected', 'correction', 'correctly', 'corrects', 'corridor', 'cost', 'couldhave', 'coulternile', 'count', 'counter', 'countered', 'counterpunch', 'country', 'couple', 'coventry', 'coverage', 'covered', 'coverjust', 'coverpoint', 'coversbut', 'coverthat', 'cow', 'cowcorner', 'cozier', 'cracker', 'cracking', 'crafty', 'cram', 'cramped', 'cramping', 'cranked', 'crash', 'crashing', 'crashlanded', 'crawl', 'crawled', 'creak', 'cream', 'creamed', 'creamer', 'creaming', 'creamy', 'crease', 'creasebound', 'create', 'created', 'credit', 'creep', 'creeping', 'cremer', 'cricinfo', 'cricket', 'cricketer', 'cricketing', 'cripes', 'crisp', 'crisply', 'crisplystruck', 'crispy', 'critical', 'crooked', 'crop', 'cross', 'crossbat', 'crossbatted', 'crossbatting', 'crosscourt', 'crossed', 'crossseamed', 'crouching', 'crowd', 'crucial', 'crude', 'cruised', 'crumped', 'crunch', 'crunched', 'crunchers', 'crunching', 'crunchy', 'crunnnnnnches', 'crushed', 'crushing', 'crutch', 'csk', 'csks', 'cuckoo', 'cucumber', 'cueender', 'culprit', 'cumbersome', 'cummins', 'cunning', 'cure', 'curiously', 'curl', 'curran', 'current', 'curse', 'curving', 'cushion', 'customary', 'customer', 'cut', 'cutely', 'cutlasswielder', 'cutsteer', 'cutstrokes', 'cuttable', 'cutting', 'cv', 'cword', 'da', 'dab', 'dad', 'dagar', 'daintily', 'dainty', 'dale', 'dalrymple', 'damage', 'damien', 'damyn', 'dance', 'danced', 'dancer', 'dancing', 'dangerman', 'dangerous', 'dangerously', 'dangled', 'dangling', 'darcy', 'daredevil', 'daredevilry', 'daresay', 'daring', 'dark', 'darren', 'dart', 'darted', 'daryl', 'dash', 'dasher', 'date', 'davey', 'david', 'davis', 'davison', 'davisons', 'dawlat', 'dawlatzai', 'day', 'daylight', 'dd', 'deadbat', 'deadbats', 'deadbatted', 'deadened', 'deadening', 'deadly', 'deadpans', 'dealt', 'dear', 'dearly', 'debatable', 'debut', 'debutant', 'decapitated', 'deceive', 'deceives', 'decent', 'decentish', 'decide', 'decidedly', 'deciding', 'decision', 'decisive', 'declined', 'deemed', 'deepa', 'deeper', 'deepish', 'deepsquare', 'default', 'defence', 'defended', 'defending', 'defends', 'defense', 'defensive', 'defensively', 'defensivelythrust', 'definition', 'deflected', 'deflecting', 'deflection', 'deflects', 'deft', 'deftly', 'defying', 'delectable', 'delhi', 'deliberate', 'deliberately', 'deliberation', 'delicate', 'deliciously', 'delight', 'delighted', 'delightful', 'delivered', 'demolish', 'demolishing', 'demon', 'demonstrate', 'denial', 'denouement', 'dented', 'denture', 'deny', 'departs', 'depe', 'depending', 'deposited', 'depositing', 'der', 'descending', 'described', 'describes', 'deserve', 'deserved', 'deservedly', 'deserves', 'design', 'desired', 'despair', 'despatch', 'desperation', 'dessert', 'destruction', 'deter', 'determined', 'deterred', 'detonates', 'detour', 'devastating', 'developing', 'deviated', 'devine', 'devon', 'dewy', 'dexterity', 'dharmasena', 'dharmsena', 'dhawal', 'dhawan', 'dhawn', 'dhoni', 'dhonis', 'diagonally', 'diamanti', 'diametric', 'dibble', 'dibblydobbler', 'dice', 'dicey', 'dictate', 'did', 'died', 'difference', 'different', 'dig', 'digging', 'dignity', 'dil', 'dilhan', 'dilshan', 'dilshans', 'dime', 'dimension', 'dimuth', 'dinda', 'dinesh', 'dinked', 'dint', 'dip', 'dipped', 'dippenaar', 'dippennar', 'dire', 'directhit', 'directing', 'direction', 'directionoutta', 'directly', 'directs', 'disagrees', 'disappeared', 'disappears', 'disappointed', 'disappointment', 'disappoints', 'disaster', 'disbelief', 'discernibly', 'discipline', 'disconcerting', 'discussed', 'disdain', 'disdainful', 'disdainfully', 'disgraced', 'disguised', 'disgust', 'disgusted', 'disgusting', 'dislocated', 'dislodge', 'dislodged', 'dismissal', 'dismissed', 'dismissive', 'dispatch', 'dispatched', 'dispatching', 'displaying', 'disregard', 'distraught', 'disturbed', 'disturbs', 'dived', 'diverted', 'diving', 'dj', 'dk', 'dobbed', 'dobbled', 'doe', 'doenst', 'doeschate', 'doeschates', 'doeshcate', 'dog', 'doing', 'doldrums', 'dolly', 'domestic', 'domineering', 'don', 'donkey', 'donning', 'dot', 'dottin', 'dotty', 'double', 'doubt', 'dougie', 'downhill', 'downpour', 'downtown', 'downward', 'downwards', 'dozen', 'dozing', 'dozy', 'drag', 'dragging', 'dragpulled', 'drake', 'drama', 'dramatic', 'dramatically', 'dramatics', 'dravids', 'draw', 'drawing', 'dreaded', 'dreadful', 'dream', 'dreamily', 'dreamy', 'dressing', 'drew', 'dribble', 'dribbled', 'dribbling', 'drift', 'drifted', 'drifting', 'drill', 'drilled', 'drilling', 'drink', 'dripping', 'driveable', 'driven', 'drivepush', 'drizzle', 'dropkick', 'drove', 'drs', 'drum', 'drunk', 'du', 'dubai', 'duck', 'ducking', 'duffin', 'dugout', 'duly', 'duminy', 'dump', 'dumping', 'dupe', 'duress', 'dust', 'dusted', 'dutch', 'duty', 'dwon', 'dy', 'dynamite', 'dz', 'ea', 'eager', 'eagerness', 'eand', 'early', 'earn', 'earns', 'ease', 'eased', 'easehe', 'easier', 'easiest', 'easing', 'easy', 'easypaced', 'eating', 'ecstatic', 'eden', 'edge', 'edgetoo', 'edgily', 'edgy', 'edison', 'edward', 'eeh', 'effect', 'effected', 'effective', 'efficiency', 'efficient', 'efficiently', 'effort', 'effortless', 'effortlessly', 'egde', 'eitherhe', 'eke', 'elated', 'elbow', 'elder', 'elect', 'elegance', 'elegant', 'elevation', 'elevenball', 'elicits', 'elliott', 'elton', 'eludes', 'eluding', 'elusive', 'em', 'embarassed', 'emotion', 'emphatic', 'emphatically', 'employ', 'employing', 'en', 'enables', 'end', 'endeavoring', 'ended', 'endovers', 'energetically', 'england', 'englanditis', 'enjoys', 'enormous', 'enought', 'enquiring', 'ensue', 'ensured', 'ensures', 'ensuring', 'enter', 'enterprising', 'enters', 'entertaining', 'enthusiasm', 'entice', 'enticing', 'enticingly', 'entirely', 'entrance', 'enviable', 'eoin', 'epitch', 'epitomises', 'equalling', 'era', 'erasmus', 'eric', 'erics', 'erratic', 'erred', 'erring', 'error', 'errs', 'erupt', 'erupts', 'ervine', 'escalated', 'escaping', 'eshani', 'especially', 'essence', 'essentially', 'estate', 'evaded', 'evades', 'evasive', 'evened', 'evening', 'eventually', 'eventualy', 'everybody', 'everytime', 'evident', 'exaggeratedly', 'example', 'excellently', 'exceptional', 'exceptionally', 'exchange', 'excitement', 'exclamation', 'excuse', 'execute', 'executes', 'executing', 'execution', 'exemplary', 'exercise', 'exhausted', 'exhibit', 'exhibition', 'exist', 'existent', 'exists', 'expanse', 'expect', 'expectation', 'expected', 'expecting', 'expensive', 'experiement', 'experience', 'experienced', 'expert', 'expertise', 'expertly', 'explain', 'expletive', 'explodes', 'exploding', 'exploit', 'explosive', 'exposed', 'exposing', 'express', 'exquisite', 'exquisitely', 'exra', 'extended', 'extends', 'extension', 'extract', 'extraordinary', 'extravagantly', 'extravagent', 'extreme', 'exults', 'eyecatching', 'eyed', 'eyeing', 'eyelevel', 'fab', 'fabulously', 'face', 'facile', 'facing', 'fade', 'fading', 'faf', 'fafs', 'fahima', 'fail', 'failed', 'failing', 'fairly', 'faith', 'faithful', 'fall', 'fallen', 'falling', 'fame', 'famous', 'fan', 'fanbase', 'fancy', 'fantastically', 'far', 'fare', 'farhat', 'farhats', 'farnixon', 'farther', 'farthest', 'fashion', 'fashioned', 'fast', 'fastest', 'fastish', 'fatal', 'father', 'fathom', 'fault', 'faux', 'favour', 'favoured', 'favourite', 'fb', 'fdp', 'fearful', 'fearless', 'feast', 'feat', 'feather', 'feathered', 'fed', 'feeble', 'feebly', 'feeding', 'feel', 'feeling', 'feigned', 'feigning', 'feisty', 'felled', 'felt', 'fence', 'fenceit', 'fenceshame', 'fend', 'fended', 'fending', 'fends', 'fernando', 'ferocious', 'ferociously', 'fervent', 'fetched', 'fetching', 'ff', 'fiddle', 'fiddling', 'fidel', 'fidget', 'fidgetting', 'fielder', 'fielding', 'fierce', 'fiercely', 'fiesty', 'fifth', 'fiftyrun', 'fight', 'fighting', 'figure', 'figured', 'fillet', 'filth', 'final', 'fined', 'finesse', 'finest', 'finger', 'fingeronthelip', 'fingeror', 'finish', 'finished', 'finisher', 'finishing', 'finsihes', 'fired', 'firework', 'firing', 'firmly', 'firstball', 'fish', 'fished', 'fist', 'fit', 'fitness', 'fitter', 'fitting', 'fittingly', 'fivefor', 'fizzed', 'fizzer', 'flail', 'flailing', 'flair', 'flamboyant', 'flamingflick', 'flamingo', 'flamingostyle', 'flamingowhips', 'flanged', 'flapped', 'flash', 'flashed', 'flashing', 'flashingly', 'flashy', 'flatbat', 'flatbats', 'flatbatted', 'flatbatting', 'flatfooted', 'flatitsh', 'flattening', 'flattens', 'flatter', 'flattering', 'flattish', 'flay', 'flayed', 'flays', 'flck', 'fleet', 'fleeting', 'fleetingly', 'fleming', 'fletcher', 'flex', 'flick', 'flicked', 'flickpull', 'flickshot', 'flicky', 'flier', 'flighed', 'flight', 'flighted', 'flighting', 'flighty', 'fling', 'flinging', 'flintoff', 'flintoffs', 'flipped', 'flipper', 'flirt', 'float', 'floated', 'floating', 'flogged', 'flogging', 'floodlight', 'floor', 'floundering', 'flourish', 'flourishing', 'flow', 'fluency', 'fluent', 'fluently', 'fluffed', 'fluid', 'flung', 'flurry', 'flush', 'fly', 'flying', 'foam', 'focusing', 'folded', 'folk', 'following', 'followthrough', 'followup', 'fom', 'fondly', 'fool', 'fooled', 'foolish', 'foot', 'footand', 'footballer', 'footing', 'footstep', 'foray', 'force', 'forceful', 'forcefully', 'fore', 'forefinger', 'forehanded', 'foremost', 'foreseen', 'foresight', 'forget', 'forgets', 'forgettable', 'forgiven', 'forgotten', 'forlorn', 'forlornly', 'forth', 'fortunate', 'fortune', 'forwad', 'forward', 'foster', 'foure', 'fourth', 'fourthstump', 'foxed', 'foxing', 'fraction', 'fractionally', 'frag', 'frame', 'franchise', 'frankly', 'frannklin', 'frantic', 'fraught', 'free', 'freebie', 'freed', 'freedom', 'freeing', 'freely', 'freescoring', 'frequently', 'fresh', 'freshair', 'friendly', 'frontfoothammeringpull', 'froze', 'frozen', 'frugal', 'fruitful', 'fruition', 'fruitless', 'frustrating', 'frustration', 'fry', 'fter', 'fuel', 'fulfils', 'fullblooded', 'fullie', 'fullin', 'fulll', 'fulllength', 'fullstretch', 'fullthrottle', 'fullvand', 'fully', 'fulton', 'fuming', 'fun', 'funky', 'furious', 'furniture', 'fury', 'fuss', 'futile', 'gadzooks', 'gained', 'gaining', 'gallop', 'gambhir', 'gambhirs', 'gambhr', 'gamble', 'gambled', 'game', 'gamechanger', 'gamely', 'gameplan', 'gamhir', 'gap', 'gaptrott', 'garnish', 'gary', 'gasp', 'gat', 'gate', 'gather', 'gathering', 'gauge', 'gauti', 'gavin', 'gayle', 'gayles', 'gazi', 'gd', 'gear', 'gee', 'general', 'generate', 'generated', 'generates', 'generating', 'generic', 'generously', 'genius', 'gentler', 'genuine', 'george', 'gest', 'gg', 'giftwraps', 'gilchris', 'gilchrist', 'gill', 'gillespie', 'gilly', 'ginger', 'gingerly', 'girl', 'given', 'givena', 'giving', 'gladly', 'glanced', 'glee', 'gleeful', 'gleefully', 'glide', 'glided', 'gliding', 'glimmer', 'glimpse', 'gloom', 'glorious', 'gloriously', 'glory', 'gloved', 'glued', 'gnasher', 'gnasho', 'goalkeeper', 'gobble', 'god', 'goddim', 'goees', 'goesstraightonner', 'going', 'gold', 'golden', 'golf', 'golfer', 'golfswing', 'gon', 'gone', 'gonersays', 'goneswanns', 'good', 'goodenough', 'goodish', 'goodly', 'goodold', 'goodun', 'goof', 'gopal', 'gordon', 'gorgeous', 'goswami', 'got', 'gotcha', 'gowtham', 'gowthams', 'grab', 'grabbed', 'grace', 'graceful', 'gracefully', 'grandhomme', 'grass', 'grassy', 'grateful', 'gravitydefying', 'grazed', 'grazing', 'great', 'greatest', 'greatly', 'greed', 'greedily', 'greedy', 'greek', 'greet', 'greets', 'grenade', 'grey', 'grimace', 'gripped', 'gripping', 'gritty', 'groan', 'grogaddled', 'grooth', 'grooths', 'groping', 'groundall', 'grounded', 'groundvettori', 'grove', 'growling', 'grubber', 'grudge', 'guess', 'guessed', 'gugten', 'guided', 'guideline', 'guiding', 'guile', 'gujarat', 'gul', 'gulbadin', 'gullet', 'guls', 'gunasekara', 'gunn', 'gunning', 'guppy', 'guptil', 'guptills', 'guruge', 'gusto', 'gut', 'h', 'ha', 'habibul', 'habit', 'hacked', 'haffez', 'hah', 'hale', 'halfappeal', 'halfcenturies', 'halfcentury', 'halfcolley', 'halfcry', 'halfdrive', 'halfhearted', 'halfheartedly', 'halfpoke', 'halfprod', 'halfpunched', 'halfsave', 'halfshout', 'halfstops', 'halftracker', 'halfvolleys', 'halfwaft', 'hall', 'halting', 'halvolley', 'hamid', 'hammer', 'hammered', 'hammering', 'hammie', 'hamstring', 'hamza', 'hand', 'handcuff', 'handed', 'handel', 'hander', 'handeye', 'handled', 'handling', 'handsome', 'handsomely', 'handsomesteps', 'handspoor', 'hang', 'hapless', 'happen', 'happening', 'happenned', 'happens', 'happier', 'happily', 'happyslapping', 'haq', 'haqs', 'harakiri', 'harbhajan', 'harbour', 'hard', 'harder', 'hardly', 'hardwork', 'haring', 'haris', 'harmanpreet', 'harmison', 'harmiwide', 'harmless', 'harmlessly', 'harper', 'harried', 'harshal', 'harvir', 'hasan', 'haseeb', 'hash', 'hassan', 'hassle', 'haste', 'hastened', 'hastings', 'hasty', 'hater', 'hattricka', 'haul', 'hauling', 'havent', 'hawk', 'hawkeye', 'hay', 'hayden', 'haydenlike', 'haydens', 'haywire', 'hazell', 'head', 'headed', 'headhigh', 'heading', 'headlesschicken', 'headtohead', 'healthy', 'healy', 'heard', 'hears', 'heart', 'heartbreak', 'heartedly', 'heat', 'heave', 'heaved', 'heaven', 'heavepull', 'heaving', 'heavyfooted', 'heck', 'heeded', 'heel', 'hefty', 'hel', 'held', 'helicopter', 'help', 'helped', 'helping', 'hemp', 'hendrick', 'henriques', 'henry', 'herethat', 'hero', 'hesitant', 'hesitate', 'hesitated', 'hesitation', 'hew', 'hewalked', 'hey', 'heyday', 'hid', 'hide', 'hideously', 'hiding', 'hidsight', 'higharm', 'highelbow', 'higher', 'highest', 'highlight', 'highpercentage', 'highrisk', 'highthat', 'hiiiiiiigh', 'hilarious', 'hill', 'himbut', 'hime', 'himno', 'himshort', 'hindight', 'hindsight', 'hint', 'hiphigh', 'hira', 'hiral', 'hiras', 'hist', 'hithe', 'hitter', 'hmm', 'hnd', 'ho', 'hobble', 'hockey', 'hodge', 'hoffman', 'hoggy', 'hoick', 'hoicked', 'hoicks', 'hoicksville', 'hoik', 'hoist', 'hoisted', 'holding', 'hole', 'holing', 'holkar', 'hom', 'homed', 'honestly', 'hong', 'honing', 'honour', 'hoo', 'hoodwinked', 'hooked', 'hooking', 'hooper', 'hoped', 'hopeful', 'hopeless', 'hopelessly', 'hopping', 'horizontal', 'horrendous', 'horrible', 'horrid', 'horror', 'host', 'hostile', 'hotspot', 'hour', 'house', 'household', 'hovering', 'howdy', 'hows', 'huddle', 'hueg', 'hug', 'huger', 'hugged', 'humid', 'humming', 'humongous', 'hung', 'hungry', 'hurdle', 'hurl', 'hurled', 'hurriedly', 'hurry', 'hurtled', 'hush', 'hussain', 'hussey', 'husseycricket', 'hustle', 'hustled', 'hutch', 'huuuge', 'huuuuge', 'huuuuuuuge', 'ian', 'ice', 'ideal', 'identical', 'idyllic', 'iftikhar', 'ignored', 'ignores', 'ill', 'illadvised', 'illdirected', 'illeffects', 'illfitting', 'im', 'imagination', 'immaculate', 'immediately', 'immense', 'impact', 'impassive', 'impatience', 'impatient', 'impeccable', 'impeccably', 'imperious', 'imperiously', 'imperviousness', 'impetuous', 'impetus', 'imploded', 'implored', 'implosion', 'important', 'importantly', 'imposes', 'imposter', 'impressed', 'improvisation', 'improvise', 'improvised', 'impudent', 'imran', 'inaccurate', 'inbetween', 'including', 'incoming', 'inconsiderable', 'increasing', 'incredible', 'incredulously', 'incurs', 'indecently', 'indecisive', 'indeterminate', 'index', 'indian', 'indicate', 'indication', 'indicative', 'indie', 'indip', 'indipping', 'indisciplined', 'indrift', 'indrifter', 'indrifting', 'induces', 'inducker', 'indulge', 'industriously', 'ineffectually', 'ineptitude', 'inevitable', 'inexperienced', 'inexplicable', 'infamous', 'infield', 'infielder', 'influential', 'inform', 'infront', 'ingram', 'inimitable', 'initially', 'initiation', 'injudicious', 'injudiciously', 'injured', 'injuredwouldve', 'inkling', 'inline', 'inn', 'inner', 'inneredge', 'inning', 'innocously', 'innocuous', 'innovates', 'innovation', 'innovative', 'innovator', 'insane', 'insid', 'inside', 'insideedge', 'insideedges', 'insideedging', 'insideouts', 'insistence', 'inspiration', 'inspired', 'instant', 'insult', 'inswinger', 'inswinging', 'intact', 'intelligent', 'intended', 'intention', 'intentional', 'international', 'intervene', 'intimidated', 'intimidatory', 'inventive', 'invitation', 'inviting', 'involved', 'inward', 'inzamam', 'inzamamulhaq', 'inzy', 'ipl', 'iram', 'irfan', 'iron', 'ironically', 'irony', 'isequal', 'ishwar', 'islam', 'itching', 'ithit', 'itno', 'itpressure', 'itstands', 'itsy', 'itwelcome', 'jab', 'jabbed', 'jacob', 'jadeja', 'jadhav', 'jads', 'jagged', 'jagging', 'jahanara', 'jaipur', 'jam', 'jamie', 'jamming', 'jamshed', 'jangling', 'jason', 'javed', 'javeds', 'jayaasuriya', 'jayasuriya', 'jayasuriyas', 'jayawardene', 'jaydev', 'jaysuriya', 'jeepers', 'jeez', 'jeff', 'jeremy', 'jerky', 'jerling', 'jesse', 'jewel', 'jhulans', 'jig', 'jimmy', 'jinked', 'jofra', 'jog', 'jogged', 'joginder', 'johnson', 'johnsonlike', 'johnston', 'joining', 'jointbiggest', 'jointfastest', 'joke', 'jolly', 'jonassen', 'jones', 'jonkman', 'jordan', 'jos', 'journey', 'joy', 'joyce', 'joyous', 'jubilant', 'jubilantly', 'jubilation', 'jubiliation', 'judged', 'judgement', 'juggle', 'juggling', 'justice', 'justified', 'jut', 'juust', 'juuuust', 'k', 'kaif', 'kallis', 'kamande', 'kami', 'kamran', 'kamungozi', 'kandy', 'kane', 'kanhai', 'kapali', 'kapp', 'kapugedara', 'karan', 'karanveer', 'karim', 'karn', 'karthik', 'karthiks', 'karun', 'kashif', 'kasperek', 'kaul', 'kauls', 'kaushalya', 'kayes', 'kayoes', 'keeevvvvin', 'keen', 'kemp', 'kemps', 'kenya', 'kenyan', 'kervezee', 'kev', 'kevin', 'kevins', 'khadka', 'khakurel', 'khejroliya', 'khurram', 'khurrams', 'kieswetter', 'kill', 'killing', 'kinda', 'king', 'kingdom', 'kipper', 'kirstens', 'kishans', 'kiss', 'kitchen', 'kkr', 'kkrs', 'kl', 'klaasen', 'kmh', 'kmph', 'knackered', 'knee', 'kneeheight', 'kneehigh', 'knife', 'knighthood', 'knock', 'knocked', 'knockhas', 'knoll', 'knot', 'know', 'knowing', 'knowledge', 'known', 'knuckle', 'ko', 'kock', 'kod', 'koertzens', 'kohli', 'kohlis', 'kolkata', 'kong', 'kotla', 'kp', 'kph', 'kpto', 'krejza', 'kruger', 'krunal', 'krunals', 'kuamr', 'kulasekara', 'kulasekaras', 'kuldeep', 'kuldeeps', 'kules', 'kulkarni', 'kumar', 'kusal', 'kusals', 'la', 'lab', 'lace', 'laced', 'lacing', 'lack', 'lacking', 'lakmal', 'lala', 'lame', 'lamichhane', 'land', 'landed', 'landmark', 'langeveldt', 'languid', 'lanka', 'lankan', 'lankas', 'lanning', 'lap', 'lapflicks', 'lapped', 'lapping', 'lapscoop', 'lapse', 'lapsweep', 'large', 'largely', 'larruped', 'laser', 'lasered', 'lash', 'lasithaaaaaaa', 'lasted', 'lasting', 'lastminute', 'latch', 'latched', 'late', 'latecut', 'latecuts', 'latedug', 'lately', 'later', 'lateral', 'lateswinging', 'latif', 'laugh', 'laughlin', 'launch', 'lawrys', 'laxman', 'lay', 'lazily', 'lazt', 'leaden', 'leadenfeet', 'leading', 'leadingedge', 'leaf', 'leaking', 'lean', 'leaned', 'leant', 'leap', 'leaping', 'learned', 'learning', 'learnt', 'leathered', 'leaved', 'leaving', 'led', 'lee', 'leede', 'left', 'leftarmers', 'lefthand', 'lefthanded', 'leftie', 'lefty', 'legal', 'legandmiddle', 'legbefore', 'legbye', 'legbyes', 'leggies', 'legglance', 'leggy', 'legnice', 'legnth', 'legside', 'legsided', 'legsideish', 'legsidelineish', 'legsidish', 'legslipish', 'legspiner', 'legstump', 'legstumpish', 'legtrott', 'legwould', 'lendl', 'lenght', 'length', 'lengthball', 'lengthdeliery', 'lengthdelivery', 'lengtht', 'lengthy', 'lent', 'leprechaun', 'lessen', 'letting', 'lever', 'leverage', 'leverock', 'levi', 'levy', 'liam', 'lick', 'lid', 'lidon', 'lie', 'lifeline', 'lift', 'lifter', 'lifting', 'light', 'lightening', 'lightning', 'liked', 'likely', 'limit', 'limitedovers', 'lineandlength', 'lineshading', 'lineup', 'lineyes', 'lion', 'lipreading', 'list', 'listen', 'lit', 'literally', 'lithely', 'little', 'lloyd', 'load', 'lob', 'lobbed', 'lobbing', 'locates', 'locating', 'lodge', 'lodged', 'lofted', 'lofty', 'lolling', 'lollypop', 'lomror', 'lone', 'lonely', 'long', 'longer', 'longest', 'longhop', 'longoff', 'longoffs', 'longon', 'longons', 'longonwho', 'loo', 'look', 'looksto', 'looper', 'looping', 'loose', 'loosener', 'loosens', 'loosner', 'loped', 'lorry', 'lose', 'losing', 'lossener', 'lost', 'lot', 'lou', 'loud', 'louder', 'lounging', 'love', 'lovely', 'loverly', 'low', 'lowarm', 'lowest', 'lowkey', 'lowpercentage', 'lrft', 'ltries', 'lucky', 'luke', 'lull', 'lulled', 'lumb', 'lumbering', 'lumbs', 'lunch', 'lunge', 'lunged', 'lunging', 'lured', 'luring', 'lurking', 'lurks', 'lustilybut', 'lusty', 'luxury', 'lying', 'lynns', 'm', 'maaaasive', 'mac', 'maccallum', 'maccullum', 'machan', 'machans', 'macleod', 'maddy', 'madly', 'magical', 'magnet', 'magnificent', 'magnificently', 'magnifico', 'maharoofs', 'mahela', 'mahmudullah', 'mahroof', 'mahumudllah', 'maiden', 'main', 'maintaining', 'majestic', 'majestically', 'majesty', 'major', 'make', 'maker', 'making', 'malice', 'malik', 'maling', 'malinga', 'malingalike', 'malla', 'manages', 'manan', 'mancalled', 'mandeep', 'maneuver', 'manfinn', 'mangood', 'manipulate', 'manish', 'manner', 'manno', 'manoeuvered', 'manoeuvre', 'manoeuvred', 'manoj', 'mansell', 'manual', 'manufacture', 'manufactured', 'manufacturing', 'manwas', 'maqsood', 'marauder', 'march', 'marching', 'margin', 'marginally', 'marina', 'mark', 'markandes', 'markedly', 'marsh', 'marshall', 'martinesz', 'martyn', 'martyns', 'maruma', 'marvellous', 'mash', 'mashrafe', 'mashrafes', 'masochist', 'mason', 'mass', 'massive', 'massively', 'masterfully', 'mat', 'match', 'matchchanging', 'matched', 'matchwinner', 'matchwinning', 'matchwith', 'mate', 'math', 'mathews', 'matsikenyeri', 'matt', 'matter', 'mattered', 'matthew', 'maul', 'mauled', 'mavi', 'max', 'maxi', 'maximum', 'mayank', 'maybe', 'mayor', 'mcbrine', 'mcc', 'mccallan', 'mccallum', 'mcclenagahan', 'mcclenaghans', 'mcclenghan', 'mccullum', 'mccullums', 'mccullun', 'mcdot', 'mcg', 'mcglashan', 'mcgrath', 'mclean', 'mcmillan', 'mdiwicket', 'mean', 'meander', 'meant', 'meantime', 'measure', 'meat', 'meated', 'meaty', 'meddle', 'medicine', 'mediocre', 'medium', 'meek', 'meekly', 'meet', 'meeting', 'memorable', 'memory', 'men', 'menace', 'menacing', 'mendis', 'mendiss', 'mention', 'mere', 'merited', 'meriting', 'merrily', 'merry', 'merwe', 'mess', 'message', 'messed', 'messy', 'meter', 'methinks', 'metrespersecond', 'metrowater', 'mi', 'mic', 'michael', 'micheal', 'microsecond', 'midair', 'middleand', 'middleandleg', 'middleandoff', 'middled', 'middledbut', 'middleorder', 'middleovers', 'middling', 'midiwcket', 'midmovement', 'midoff', 'midon', 'midona', 'midons', 'midonthe', 'midpitch', 'midriff', 'midtimed', 'midtrack', 'midwcket', 'midwicketmid', 'midwicketnetherlands', 'midwicketnot', 'midwicketpietersen', 'midwickets', 'midwicketstunningcatch', 'midwicketthe', 'midwicketwas', 'mightily', 'mighty', 'mile', 'military', 'milked', 'miller', 'milliondollar', 'mind', 'mindful', 'mindless', 'mindset', 'minibattle', 'minimal', 'minimalistic', 'minimum', 'minionslaught', 'minnow', 'miracle', 'miraculously', 'mirpur', 'misbah', 'mischievous', 'miscue', 'miscuing', 'misdirects', 'miserable', 'misery', 'misfield', 'misfielding', 'misfields', 'misfired', 'mishit', 'mishits', 'mishitting', 'mishras', 'misjudges', 'misplaced', 'misplacedwallop', 'misread', 'miss', 'missedcusack', 'misshy', 'missile', 'missing', 'missles', 'mistake', 'mistaken', 'mister', 'mistime', 'mistimes', 'mistiming', 'mistyped', 'mitch', 'mitchell', 'mithun', 'mixed', 'mixing', 'mj', 'mm', 'mmmmonty', 'mob', 'mobbed', 'mocker', 'modern', 'moeens', 'mohammad', 'mohawk', 'mohit', 'mohits', 'moihammad', 'moin', 'moises', 'mojo', 'moment', 'mominul', 'mommsen', 'mondal', 'monga', 'mongia', 'monklike', 'monster', 'monstrous', 'month', 'mooney', 'mooneys', 'mop', 'morgan', 'morkel', 'morkels', 'morning', 'morris', 'mortaga', 'mortaza', 'mortazas', 'morton', 'motera', 'mother', 'motionless', 'motoring', 'mound', 'mount', 'mountain', 'mounting', 'moved', 'movement', 'moveon', 'moving', 'mow', 'mowed', 'mpofus', 'mr', 'mripl', 'mrogan', 'mstiming', 'mubarak', 'muchneeded', 'muchpollard', 'muddle', 'muddleup', 'mufambisi', 'muff', 'muffed', 'muffled', 'muirhead', 'mujeebs', 'mukkudem', 'mukuddem', 'muller', 'mullered', 'mullering', 'mumbai', 'muna', 'munafs', 'munch', 'munro', 'mupariwa', 'murali', 'muralis', 'muralitharan', 'muralitharans', 'murder', 'murdered', 'murderous', 'murky', 'murtaugh', 'muscle', 'musclebound', 'muscled', 'muscular', 'muscularly', 'mushfiq', 'mushfiqur', 'mushfiqurs', 'mushi', 'mushy', 'mustafa', 'mustafiz', 'mustafizur', 'muted', 'muthuswami', 'mutter', 'myburgh', 'myburghs', 'mysore', 'mystery', 'naaaaice', 'nabi', 'nadeem', 'nadif', 'nadu', 'naeem', 'nafees', 'nagging', 'nagpur', 'nah', 'nahida', 'nahidas', 'naibs', 'nailbiter', 'nailed', 'nair', 'najib', 'najibullah', 'napier', 'narendra', 'narine', 'narines', 'narrow', 'narrowly', 'nasa', 'nasir', 'nasser', 'nasty', 'nath', 'natha', 'nathan', 'nathans', 'naths', 'nation', 'naturally', 'naughty', 'naved', 'navedulhasan', 'naveed', 'nay', 'nazimuddin', 'nazir', 'nazirs', 'ncn', 'near', 'nearer', 'nearimpossible', 'nearperfect', 'nearyorker', 'neat', 'neatly', 'necessary', 'nechim', 'neck', 'nee', 'need', 'needed', 'needful', 'needling', 'neednt', 'neeeeeeext', 'neesham', 'negates', 'negative', 'negi', 'negotiate', 'negotiated', 'negotiates', 'nehemiah', 'nehra', 'nehras', 'neil', 'neitherherenorthere', 'nel', 'nelly', 'nels', 'nelson', 'nepal', 'nerveless', 'nest', 'netherlands', 'neverending', 'nevill', 'new', 'newlands', 'ngoche', 'niall', 'nialls', 'nibbled', 'nice', 'nicely', 'nicelyjudged', 'nicholas', 'nicholls', 'nick', 'nicked', 'nicol', 'niekerk', 'niftily', 'nigel', 'nineball', 'ninety', 'nipbacker', 'nippy', 'nitin', 'nitish', 'nixon', 'noball', 'noballed', 'nobbles', 'nod', 'nomans', 'non', 'nonchalant', 'nonchalantly', 'nondrive', 'nonetheless', 'nononsense', 'nonsense', 'nonturner', 'nonturning', 'nonviolent', 'nooo', 'noooooooooo', 'noor', 'nop', 'nope', 'norm', 'normal', 'normalcy', 'nose', 'notch', 'notched', 'note', 'noticeably', 'noticed', 'notquitepitchedup', 'notsoflash', 'nought', 'nowehere', 'ntinis', 'nudged', 'nudger', 'nudging', 'nullified', 'numb', 'number', 'numerous', 'nurdled', 'nurdler', 'nurdles', 'nurdling', 'nursery', 'nut', 'nutmeg', 'nz', 'nzer', 'obanda', 'obrienesque', 'obriens', 'obscene', 'obstacle', 'obuya', 'obviously', 'occasion', 'oddly', 'odds', 'odi', 'odis', 'odoyo', 'odoyos', 'ofa', 'offand', 'offbail', 'offcould', 'offcutter', 'offdrive', 'offdrove', 'offence', 'offer', 'offering', 'office', 'official', 'offie', 'offish', 'offm', 'offpace', 'offs', 'offside', 'offspinners', 'offstump', 'offtarget', 'offuctter', 'oh', 'ohhh', 'ohhhhh', 'ohsoroutine', 'ojhas', 'ok', 'okay', 'old', 'oldish', 'omar', 'omars', 'ominous', 'ominuous', 'ona', 'onbelow', 'ondriven', 'ondrives', 'onhigh', 'onrushing', 'onstill', 'onthat', 'ontheup', 'onus', 'oodles', 'ooer', 'ooh', 'oohs', 'oomph', 'ooohhhh', 'ooooff', 'oopsy', 'oozed', 'open', 'opener', 'opening', 'operate', 'opposed', 'opposition', 'opt', 'optimal', 'optimistic', 'option', 'opts', 'oram', 'orams', 'orbit', 'ordinary', 'orthodox', 'orthodoxly', 'orthodoxy', 'osborne', 'oshadi', 'osindes', 'otieno', 'ouchy', 'ought', 'ouma', 'oumas', 'oustdie', 'outclasses', 'outer', 'outfield', 'outfoxed', 'outisde', 'outside', 'outsideedged', 'outsidehalf', 'outsideoff', 'outsidetheoffstump', 'outstanding', 'outstretched', 'outswinger', 'outswinging', 'outta', 'oval', 'oven', 'overall', 'overarm', 'overbalanced', 'overcompensated', 'overcompensates', 'overcompensating', 'overcompensation', 'overconfidence', 'overcritical', 'overdoing', 'overestimated', 'overhead', 'overly', 'overpitched', 'overpitches', 'overpitching', 'overran', 'overrun', 'overstep', 'overstepping', 'oversteps', 'overtheshoulder', 'overturn', 'overturned', 'ovet', 'owen', 'owns', 'oxenford', 'oxygen', 'pace', 'paced', 'pacemans', 'pacer', 'packed', 'packing', 'pad', 'padbig', 'padded', 'paddle', 'paddled', 'paddlescooped', 'paddlescoops', 'paddlesweep', 'paddling', 'padsa', 'padsand', 'padstight', 'paid', 'painfully', 'pakistunned', 'pall', 'pallekele', 'palm', 'palmed', 'palming', 'paltry', 'pan', 'pandeyji', 'pandeys', 'pandya', 'pandyas', 'panicked', 'panicstricken', 'pant', 'panyangara', 'paragon', 'parallel', 'paranoid', 'parried', 'parry', 'parter', 'parthiv', 'partially', 'partly', 'parttimer', 'party', 'passage', 'passing', 'passion', 'past', 'patch', 'patchy', 'patels', 'path', 'pathan', 'patience', 'patient', 'patiently', 'patil', 'patroling', 'patrolling', 'pattern', 'patting', 'paul', 'pause', 'paw', 'pawed', 'paying', 'pc', 'peach', 'peachy', 'peculiar', 'pedal', 'peeved', 'peg', 'pegged', 'pelt', 'penalised', 'pendulum', 'penetration', 'pensive', 'penultimate', 'people', 'peppering', 'pepsi', 'percent', 'percentage', 'percetanges', 'perera', 'perfect', 'perfection', 'perfectly', 'perfectlyplaced', 'perform', 'performance', 'performer', 'perfume', 'peril', 'period', 'periscope', 'perished', 'perishes', 'perkins', 'perpendicular', 'perseveres', 'persistently', 'pesky', 'petrol', 'phantom', 'phew', 'phlegmatically', 'photocopier', 'photographer', 'pick', 'picket', 'picking', 'pickupandrelease', 'picture', 'pictureperfect', 'pinched', 'pinchhitter', 'pindrop', 'pinged', 'pinging', 'pinky', 'pinned', 'pinning', 'pint', 'pirouette', 'pitched', 'pitcher', 'pitcth', 'pitcxh', 'pitiful', 'pivot', 'piyuch', 'piyush', 'place', 'placed', 'placement', 'placing', 'placment', 'plain', 'plan', 'plank', 'planning', 'plant', 'plantede', 'planting', 'platform', 'play', 'playback', 'played', 'playoff', 'pleaded', 'pleasant', 'pleased', 'pleasing', 'pleasure', 'plenty', 'plessis', 'plink', 'plonk', 'plonking', 'plop', 'plopped', 'plopping', 'plotting', 'ploy', 'plucked', 'plucky', 'plug', 'plugged', 'plugging', 'plunder', 'plunge', 'pocket', 'poetry', 'point', 'pointed', 'pointhes', 'pointing', 'pointireland', 'pointor', 'pointwas', 'pointwasnt', 'pointwho', 'pointy', 'poise', 'poked', 'pole', 'policeman', 'policemangreat', 'polite', 'pollock', 'poof', 'poonia', 'poor', 'popping', 'popular', 'poretfield', 'porterfield', 'porterhouse', 'portion', 'pose', 'positioned', 'positionprobably', 'possible', 'possibly', 'possum', 'post', 'posting', 'potent', 'potentially', 'pouch', 'pouched', 'pounce', 'pounced', 'pouncing', 'pound', 'pounded', 'pounding', 'powell', 'power', 'powered', 'powerful', 'powerfull', 'powering', 'powerplay', 'pp', 'practically', 'practice', 'prance', 'prancing', 'prasad', 'praying', 'preceded', 'precious', 'precise', 'precisely', 'precision', 'predetermined', 'predicament', 'predict', 'predictable', 'predictably', 'predictive', 'preez', 'preferably', 'preferred', 'prefers', 'premeditated', 'premeditatedly', 'premeditates', 'premeditating', 'premier', 'prepared', 'prepares', 'preparing', 'presence', 'present', 'press', 'pressed', 'pressing', 'pressure', 'pressureless', 'pretend', 'prevails', 'prevented', 'prevents', 'previous', 'previously', 'price', 'priceless', 'pricey', 'priest', 'primal', 'primed', 'primetime', 'prince', 'prior', 'prises', 'pristine', 'proafghanistan', 'probably', 'problem', 'problematic', 'proceeds', 'prod', 'prodigious', 'prodigiously', 'produced', 'productive', 'prof', 'profitably', 'programming', 'progressed', 'projection', 'promisingly', 'promote', 'prompt', 'promptly', 'properly', 'properlyit', 'proportion', 'propping', 'prospect', 'protect', 'protected', 'protection', 'protects', 'proud', 'prouder', 'provides', 'prowess', 'ptch', 'puffed', 'pull', 'pullable', 'pullcumscoop', 'pullheave', 'pulling', 'pullsweep', 'pullwhip', 'pumels', 'pummel', 'pummelled', 'pummels', 'pumped', 'pumping', 'punchily', 'punching', 'puncturing', 'pune', 'punish', 'punished', 'punishes', 'punishing', 'punishment', 'punjab', 'purchase', 'pure', 'purple', 'purposeful', 'purposely', 'purred', 'purrfect', 'pursing', 'pushing', 'putting', 'puzzling', 'qdk', 'qualify', 'quality', 'quarterfinal', 'quells', 'quest', 'questionable', 'quick', 'quickest', 'quickish', 'quickly', 'quiet', 'quietened', 'quieter', 'quietly', 'quinton', 'quintyne', 'quota', 'quote', 'rabada', 'race', 'radhids', 'rafique', 'rag', 'raging', 'rahane', 'rahanes', 'rahat', 'rahim', 'rahuls', 'rainas', 'raining', 'rainsford', 'raise', 'raised', 'raising', 'raj', 'rajasthan', 'rajeshwari', 'rajin', 'rajpoot', 'rally', 'ramdin', 'ramdinsloppy', 'rammed', 'ramp', 'rampaul', 'ramped', 'ramping', 'ramrod', 'ramrodstraight', 'ran', 'rana', 'randiv', 'range', 'rania', 'ranias', 'rank', 'rankbad', 'rankin', 'ranmore', 'rao', 'raos', 'rapid', 'rapped', 'rapping', 'rapture', 'raqibul', 'rare', 'rarest', 'rarity', 'rash', 'rashids', 'rasping', 'rate', 'rattle', 'rattled', 'rattlesnake', 'ravi', 'ravindra', 'rawalpindi', 'rayudu', 'razzak', 'reached', 'reaching', 'reacted', 'reaction', 'read', 'readjusted', 'readjusting', 'readjusts', 'real', 'realised', 'realises', 'realising', 'realistic', 'really', 'realm', 'reaps', 'rearguard', 'rearranged', 'rearranging', 'reason', 'reasoning', 'reaves', 'reboundalmost', 'rebowl', 'rebuild', 'receded', 'recent', 'recentlyfound', 'reception', 'reckons', 'reclaim', 'recognises', 'reconsidered', 'recover', 'recovered', 'recovery', 'reddy', 'redeems', 'redemption', 'redinking', 'redirecting', 'redirects', 'redmond', 'reduced', 'reducing', 'reekers', 'reemerge', 'reference', 'referral', 'referred', 'reflect', 'reflection', 'reflex', 'refuse', 'refused', 'regain', 'regained', 'regard', 'regardless', 'region', 'regis', 'registered', 'regmi', 'regulation', 'rehearse', 'rehman', 'reiffel', 'rein', 'reined', 'relatively', 'relay', 'relayed', 'release', 'released', 'releasing', 'relentlessly', 'reliable', 'relief', 'relieved', 'reluctant', 'reluctantly', 'relying', 'remain', 'remained', 'remarkably', 'reminded', 'reminds', 'remotely', 'remove', 'removed', 'repeat', 'repeated', 'repeatedly', 'replaus', 'reply', 'reprieve', 'requisite', 'rescued', 'reserve', 'reset', 'resist', 'resistance', 'resolute', 'resort', 'resounding', 'respect', 'respectability', 'respectable', 'respectful', 'respectfully', 'responded', 'response', 'responsible', 'rest', 'restless', 'restored', 'restoring', 'restraint', 'restricted', 'resultant', 'resulted', 'resultsthe', 'resumption', 'retain', 'retained', 'rethink', 'retire', 'retort', 'retorted', 'retreating', 'returned', 'returning', 'rev', 'revenge', 'revers', 'reversed', 'reversedabbles', 'reverseflicking', 'reverseglance', 'reversehit', 'reversepaddles', 'reversesweeps', 'reverseswing', 'reverseswinging', 'reversing', 'reverts', 'reviewed', 'revolutionary', 'reward', 'rewarded', 'rhb', 'rhythm', 'riaz', 'rib', 'ribcage', 'rich', 'richardson', 'richie', 'ricketylooking', 'ricky', 'ricochet', 'ricocheted', 'rid', 'ride', 'ridiculously', 'rifled', 'righthanded', 'ring', 'rinke', 'rinku', 'ripped', 'ripping', 'riproaring', 'risen', 'rising', 'risk', 'riskfree', 'riskless', 'roach', 'roared', 'robbie', 'robust', 'rocked', 'rocket', 'rocketed', 'rocketing', 'rocking', 'rockthebaby', 'rod', 'rode', 'roelof', 'rohan', 'rohit', 'rohits', 'role', 'roll', 'rolled', 'roller', 'rollicking', 'rolling', 'rollsoff', 'rom', 'romaine', 'romp', 'ronchi', 'ronchis', 'roo', 'roof', 'room', 'roon', 'rooted', 'rope', 'ropey', 'rosco', 'ross', 'rossco', 'rossouw', 'rossouws', 'rotate', 'round', 'roundarm', 'roundarmed', 'rousing', 'row', 'roy', 'royal', 'ru', 'rub', 'rubbish', 'rubel', 'ruddy', 'rudi', 'rue', 'rued', 'ruined', 'ruler', 'rumanas', 'run', 'runaway', 'runchase', 'runfest', 'runless', 'runner', 'runorgy', 'runscorer', 'runscoring', 'runup', 'rushed', 'russell', 'rusty', 'ruvindu', 'ryan', 'sa', 'sabbir', 'sachin', 'sacrifice', 'sacrificed', 'sad', 'sadiq', 'safe', 'safely', 'safer', 'safety', 'saha', 'sahas', 'saheba', 'sail', 'sailed', 'sailing', 'saj', 'saleh', 'salim', 'salma', 'salmon', 'salmonlike', 'samad', 'samads', 'samaraweera', 'sambit', 'sami', 'sammy', 'sammys', 'samso', 'samson', 'samuel', 'san', 'sanath', 'sandher', 'sandpit', 'sandshoe', 'sandy', 'sanga', 'sangakarra', 'sangakkara', 'sangakkaras', 'sangwan', 'sanju', 'sanjus', 'santner', 'santokie', 'sapping', 'saqib', 'saqlain', 'sarfraz', 'sarwans', 'sashay', 'sashayed', 'sat', 'sathish', 'saunter', 'savagely', 'savagery', 'saviour', 'saw', 'say', 'scampered', 'scampering', 'scarce', 'scarcity', 'scarlet', 'scary', 'scheme', 'schoolboyish', 'schutt', 'sciver', 'scoop', 'scooped', 'scooping', 'scoot', 'scooted', 'scoots', 'scorch', 'scorcher', 'scorching', 'scorecard', 'scoring', 'scotland', 'scott', 'scrabble', 'scrambled', 'scratch', 'screached', 'scream', 'screamed', 'screamer', 'screen', 'script', 'scruff', 'scudding', 'scuffed', 'scurry', 'scurrying', 'scythe', 'scythed', 'scything', 'sdie', 'sea', 'seal', 'seam', 'seamer', 'seaming', 'seamlessly', 'seamup', 'sean', 'search', 'searles', 'seat', 'second', 'secondish', 'secondneeded', 'secondtiering', 'section', 'secure', 'secured', 'sedately', 'seeing', 'seek', 'seelaar', 'seelaars', 'seelar', 'seemingly', 'seen', 'seetheballhittheball', 'sehawag', 'sehwag', 'seized', 'seizes', 'select', 'selection', 'selector', 'self', 'selfdestruction', 'selfishly', 'selfpreservation', 'semblance', 'semicrouch', 'semifinal', 'semilofted', 'semipull', 'semiwhip', 'sen', 'sena', 'senanayake', 'sending', 'sensational', 'sense', 'sensed', 'sensing', 'sent', 'sepiatinted', 'serene', 'serenely', 'serf', 'serving', 'set', 'setting', 'settle', 'seventh', 'shadow', 'shafiqs', 'shafiuls', 'shah', 'shahbaz', 'shahid', 'shahriar', 'shahzaib', 'shaiman', 'shakib', 'shakibs', 'shaking', 'shaky', 'shall', 'shamble', 'shambolic', 'shame', 'shami', 'shamsi', 'shamsuddin', 'shanaka', 'shane', 'shape', 'shapoor', 'shardul', 'sharjeel', 'sharmin', 'sharpen', 'sharper', 'sharply', 'shatter', 'shattering', 'shatters', 'shaved', 'shaving', 'shaw', 'sheen', 'sheep', 'sheer', 'sheesh', 'shehzad', 'shellshocked', 'shenwari', 'shes', 'shift', 'shillington', 'shimmied', 'shimmy', 'shimmyshake', 'shin', 'shine', 'shingi', 'ship', 'shirt', 'shiv', 'shivam', 'shocking', 'shoddy', 'short', 'shortarmed', 'shortball', 'shortcover', 'shortdelivery', 'shorten', 'shortening', 'shortens', 'shorter', 'shorterer', 'shortest', 'shortfine', 'shortlegs', 'shortly', 'shortofalength', 'shortpitch', 'shortpitched', 'shortthird', 'shotrt', 'shoulder', 'shouldered', 'shoulderhigh', 'shouldering', 'shouldnt', 'shove', 'shoved', 'shovel', 'shoveldriven', 'shovelled', 'shovelpulled', 'showed', 'showing', 'shreays', 'shredded', 'shrubsole', 'shuffes', 'shuffle', 'shuffled', 'shuffling', 'shuts', 'shuvagata', 'shuvo', 'shy', 'sibanda', 'sibandas', 'sid', 'siddique', 'siddiques', 'sideand', 'sideclose', 'sidehe', 'sidehes', 'sideish', 'sidemore', 'sidesteady', 'sidethe', 'sidevery', 'sidewell', 'sigh', 'sight', 'sighters', 'sightscreen', 'sign', 'signature', 'significant', 'significantly', 'silence', 'silenced', 'silent', 'silken', 'similarly', 'simmons', 'simple', 'simpler', 'simplest', 'simply', 'singe', 'single', 'sinker', 'sinking', 'sinle', 'sip', 'siraj', 'sirajs', 'sitting', 'situation', 'sixth', 'size', 'sizeable', 'skew', 'skewer', 'skewing', 'skews', 'skid', 'skidded', 'skidder', 'skidding', 'skiddy', 'skied', 'skier', 'skilful', 'skill', 'skillful', 'skim', 'skimmed', 'skimming', 'skin', 'skip', 'skipped', 'skipperwhere', 'skipping', 'skirt', 'skirting', 'sky', 'skywards', 'slam', 'slammed', 'slant', 'slanted', 'slanting', 'slap', 'slapcut', 'slapdash', 'slapped', 'slapping', 'slapshot', 'slash', 'slashed', 'slashing', 'sleep', 'sleepy', 'sleeve', 'slender', 'sliced', 'slicedriving', 'slicing', 'slicked', 'slid', 'slide', 'slider', 'sligghlt', 'slightest', 'slightly', 'slighty', 'slim', 'sling', 'slinking', 'slinks', 'slip', 'slipfirst', 'slipped', 'slipping', 'slipshort', 'slog', 'slogged', 'slogsweep', 'slogsweeps', 'slogswept', 'slomo', 'slop', 'sloping', 'slot', 'slotted', 'slow', 'slowed', 'slower', 'slowing', 'slowish', 'slowly', 'slowness', 'slows', 'slowy', 'slpping', 'sluggish', 'slump', 'slung', 'smack', 'smacked', 'smacking', 'small', 'smallness', 'smark', 'smart', 'smashed', 'smashem', 'smashing', 'smattering', 'smear', 'smeared', 'smell', 'smidge', 'smile', 'smirk', 'smite', 'smites', 'smith', 'smiting', 'smits', 'smoke', 'smoked', 'smooched', 'smooth', 'smoothed', 'smoothlooking', 'smoothly', 'smother', 'smothered', 'smothering', 'snaffle', 'snaffled', 'snag', 'snap', 'snape', 'snapping', 'snappy', 'snare', 'snared', 'snarl', 'sneaked', 'snick', 'sniffily', 'snort', 'snorter', 'snuck', 'snuffed', 'soak', 'soap', 'soar', 'soared', 'sock', 'softer', 'softest', 'softhanded', 'softly', 'sohail', 'solid', 'solidly', 'solitary', 'somewhat', 'somnolently', 'son', 'song', 'soni', 'sooner', 'soontobebusy', 'soooo', 'soporific', 'soprano', 'sorensen', 'sorry', 'soufflãâ', 'soul', 'soumyas', 'sound', 'souped', 'south', 'sowing', 'space', 'spank', 'spanking', 'spar', 'spark', 'sparkling', 'sparred', 'sparse', 'spat', 'spear', 'speared', 'spearedin', 'special', 'specialises', 'specialist', 'specific', 'specifically', 'spectacular', 'spectacularly', 'sped', 'speed', 'speeding', 'spell', 'spill', 'spin', 'spinner', 'spiraling', 'spiralling', 'spitting', 'splatted', 'splattered', 'splendid', 'split', 'splitsecond', 'splitting', 'splunked', 'spoiled', 'spoke', 'spooning', 'spot', 'spoton', 'spotting', 'sprawl', 'sprawled', 'sprawling', 'spray', 'spread', 'spreading', 'sprightliness', 'sprightly', 'spring', 'sprint', 'sprinting', 'sprung', 'square', 'squarecut', 'squaredrive', 'squaredriven', 'squaredrives', 'squaredriving', 'squaredup', 'squarer', 'squaresat', 'squarewill', 'squaring', 'squat', 'squatting', 'squeeze', 'squiggling', 'squinting', 'squre', 'sran', 'sree', 'sreesanth', 'sreesanthesque', 'srh', 'sri', 'srtaight', 'st', 'stab', 'stable', 'stacked', 'stadium', 'stage', 'staggeringly', 'stake', 'stalled', 'stamp', 'stand', 'standanddeliver', 'standard', 'standin', 'standshow', 'stanikzai', 'stanikzais', 'stanlake', 'star', 'starcs', 'stare', 'start', 'started', 'starting', 'statement', 'static', 'stationary', 'stationed', 'stats', 'statutory', 'stay', 'stayed', 'staying', 'stayn', 'steadied', 'steadier', 'steady', 'steam', 'steeple', 'steepler', 'steepling', 'steeply', 'steer', 'steerdrive', 'steered', 'stelling', 'step', 'stephenson', 'stepped', 'stepping', 'stern', 'steve', 'steyn', 'steyns', 'stick', 'sticky', 'stiff', 'stifflooking', 'stifle', 'stifled', 'stilled', 'stinging', 'stirling', 'stock', 'stoinis', 'stokes', 'stolen', 'stomach', 'stone', 'stood', 'stoop', 'stooped', 'stoppin', 'stopping', 'story', 'stout', 'straddle', 'straigh', 'straight', 'straightdrives', 'straighten', 'straightened', 'straightening', 'straighter', 'straightest', 'straightforward', 'straightish', 'straigth', 'straigthens', 'strained', 'strait', 'strangely', 'strangle', 'strangled', 'strangulated', 'strangulation', 'strategically', 'strategy', 'stratosphere', 'strauss', 'stray', 'strayed', 'strayghing', 'straying', 'streaky', 'street', 'strength', 'stretaches', 'strikestealing', 'striking', 'string', 'strip', 'striving', 'strode', 'strokemaking', 'stroll', 'strong', 'strongly', 'struck', 'struckbut', 'struggled', 'strut', 'strydom', 'stryis', 'stryris', 'stub', 'stuck', 'studious', 'stuff', 'stum', 'stumble', 'stumbled', 'stumo', 'stumpdefended', 'stumped', 'stumper', 'stumping', 'stumpish', 'stumpline', 'stumpplayed', 'stumpsshort', 'stums', 'stung', 'stunner', 'stunning', 'stunningly', 'stupid', 'sturdy', 'stuttering', 'style', 'stylish', 'stylishly', 'styris', 'styriss', 'sub', 'subcontinental', 'subdued', 'sublime', 'subside', 'substitute', 'subtle', 'subtlety', 'subtly', 'succeed', 'succeeded', 'succeeding', 'succeeds', 'succesful', 'success', 'successful', 'successfull', 'successfully', 'successive', 'succumbed', 'suchith', 'suckered', 'suckering', 'suddenly', 'suffer', 'sufficient', 'sufficiently', 'suffocated', 'suggested', 'suitable', 'suiting', 'sum', 'summons', 'sumptuous', 'sun', 'sunburst', 'sundar', 'sundars', 'sunriser', 'supah', 'super', 'superbly', 'superglue', 'superlative', 'superman', 'superstar', 'supple', 'supporter', 'suppose', 'supposed', 'supreme', 'supremely', 'surface', 'surkari', 'surprising', 'survives', 'surya', 'suryakumar', 'sus', 'sushma', 'suspect', 'suspended', 'sustains', 'swallow', 'swallowed', 'swanny', 'swap', 'swapnil', 'swat', 'swatdrive', 'swatpull', 'swatpulled', 'sway', 'sweating', 'sweep', 'sweepbut', 'sweeper', 'sweeping', 'sweepingbut', 'sweet', 'sweetly', 'sweetlystruck', 'sweks', 'swept', 'swerve', 'swerved', 'swerving', 'swervy', 'swing', 'swinger', 'swinging', 'swipe', 'swiped', 'swiping', 'swirled', 'swirling', 'swish', 'swished', 'swishing', 'switch', 'switched', 'switchhit', 'switching', 'swiveled', 'swivelled', 'swivelpull', 'swivelpulled', 'swivelpullgoes', 'swivelpulls', 'swoop', 'swooped', 'swoosh', 'sy', 'sydney', 'symcox', 'symonds', 'sympathetically', 'syntax', 'szwarczynski', 'ta', 'tackle', 'tad', 'tag', 'tagteam', 'tahirs', 'taibu', 'taibus', 'tail', 'tailed', 'tailend', 'tailender', 'tailenders', 'tailing', 'taits', 'taken', 'taker', 'taking', 'talent', 'talkes', 'talking', 'tall', 'tally', 'tame', 'tamely', 'tamil', 'tamim', 'tamin', 'tampered', 'tangled', 'tanmay', 'tantalizingly', 'tapandrun', 'tape', 'tapped', 'tarakai', 'tare', 'target', 'targeted', 'targeting', 'targetted', 'targetting', 'task', 'taskin', 'taskins', 'tasty', 'taufel', 'taylor', 'taylorthat', 'te', 'tea', 'tease', 'teased', 'teaser', 'teasing', 'teasingly', 'technology', 'telegram', 'telling', 'tempered', 'tempo', 'temporarily', 'tempted', 'tempting', 'temptingly', 'tenacity', 'tendos', 'tends', 'tendulkars', 'tennisball', 'tennisstyle', 'tenpin', 'tense', 'tensionfilled', 'tentatively', 'tenth', 'terminally', 'terrible', 'terribly', 'territory', 'testing', 'testmatch', 'tewatia', 'thampi', 'thank', 'thankfully', 'thanks', 'thankyou', 'tharanga', 'thatll', 'thats', 'thatt', 'thde', 'theatrically', 'thechannel', 'theirs', 'theme', 'theory', 'theree', 'thereits', 'therell', 'theway', 'theyll', 'theyre', 'thickedges', 'thickish', 'thickly', 'thickness', 'thilan', 'thing', 'thinking', 'thirdfastest', 'thirdfourth', 'thirdslip', 'thiri', 'thirimanne', 'thirst', 'thisaras', 'thisll', 'thjaranga', 'thomas', 'thompson', 'thoroughly', 'thorugh', 'thought', 'thoughtfully', 'thr', 'thrash', 'thrashy', 'threaded', 'threat', 'threaten', 'threatened', 'threatening', 'threatens', 'thrice', 'thrid', 'thrilled', 'thriller', 'thrilling', 'thrillingly', 'throathigh', 'throaty', 'throttle', 'throughalways', 'throught', 'throwback', 'throwing', 'thrown', 'thud', 'thudding', 'thumb', 'thump', 'thumped', 'thundered', 'thundering', 'thunk', 'thunked', 'thwack', 'thwacked', 'thwart', 'thwarted', 'ti', 'ticked', 'ticking', 'tickle', 'tickled', 'tickling', 'tide', 'tidy', 'tied', 'tier', 'tiger', 'tighter', 'tightest', 'tikolo', 'till', 'tilting', 'timber', 'time', 'timed', 'timehowever', 'timely', 'timethis', 'timid', 'timing', 'tinashe', 'tinge', 'tiniest', 'tiny', 'tip', 'tipandrun', 'tippy', 'tiptoe', 'tiptoeing', 'tired', 'tiring', 'today', 'toe', 'toecrusher', 'toeended', 'toeending', 'toending', 'togedge', 'toil', 'told', 'tongs', 'tongue', 'tonight', 'tonk', 'tonked', 'tonking', 'tonks', 'tony', 'took', 'topedge', 'topedged', 'topedges', 'topedging', 'topley', 'toporder', 'toppie', 'toppling', 'topscoring', 'torment', 'torrent', 'torrid', 'torso', 'toss', 'tossed', 'tossing', 'totally', 'tottering', 'touch', 'touched', 'touchy', 'tough', 'toughest', 'toughie', 'tournament', 'towel', 'town', 'toying', 'tpads', 'tracer', 'track', 'tracker', 'tracking', 'traditional', 'tragically', 'train', 'trajectory', 'tramline', 'transfer', 'transferred', 'transferring', 'trap', 'trapped', 'trash', 'trashcan', 'travel', 'traveling', 'travelled', 'travelling', 'treacherous', 'treading', 'treated', 'treatment', 'tredwell', 'tremendous', 'trescothickstylee', 'trice', 'trick', 'tricked', 'trickle', 'trickling', 'tricksy', 'tried', 'triedd', 'trifecta', 'trifle', 'trifled', 'trigger', 'trip', 'tripathis', 'tripe', 'triple', 'troost', 'trot', 'trotts', 'trouble', 'troubled', 'troublesome', 'trouser', 'true', 'truly', 'trump', 'trundle', 'trusted', 'trying', 'tshirts', 'tto', 'tuck', 'tucked', 'tucker', 'tucking', 'tug', 'tuk', 'tumescent', 'turgid', 'turn', 'turned', 'turtle', 'twhackhe', 'twinkle', 'twirl', 'twirled', 'twist', 'twisted', 'twitchy', 'tye', 'tying', 'tyke', 'type', 'typical', 'typically', 'typo', 'tyson', 'uae', 'udrs', 'ugliest', 'ugly', 'uh', 'ultimately', 'ultra', 'ultraedge', 'umar', 'umesh', 'umpire', 'umpteen', 'unabashed', 'unable', 'unadkat', 'unadkats', 'unafraid', 'unbalanced', 'unbeaten', 'unbelievable', 'unbelievably', 'uncertain', 'uncertainly', 'uncertainty', 'uncomfortable', 'uncomfortablelooking', 'uncomfortably', 'uncontrolled', 'uncorking', 'underedge', 'underestimated', 'underneath', 'underside', 'understanding', 'underway', 'underwhelmingly', 'undoing', 'undone', 'undoubtedly', 'undue', 'uneasy', 'uneven', 'unfair', 'unfirls', 'unflustered', 'unfortunate', 'unfurl', 'unfurled', 'unfurls', 'unfussy', 'unhappy', 'unimpeded', 'uninhibited', 'unintentional', 'uninterested', 'unique', 'unison', 'university', 'unleash', 'unleashed', 'unleashes', 'unleashing', 'unless', 'unlike', 'unmistakable', 'unmoved', 'unneccessary', 'unnerve', 'unorthodox', 'unplayable', 'unravelling', 'unremarkable', 'unscathed', 'unscrew', 'unsettled', 'unsettling', 'unstoppable', 'unsuccessful', 'unsuccessfully', 'unthreatening', 'unused', 'unusual', 'unveils', 'unwraps', 'upandover', 'upheld', 'upholds', 'upper', 'uppercut', 'uppish', 'uppishly', 'uppishness', 'upright', 'uprooted', 'uproots', 'ups', 'upset', 'upwards', 'urge', 'urgently', 'used', 'useless', 'usher', 'using', 'usman', 'ut', 'uthappa', 'uthappas', 'utilise', 'utseya', 'utterly', 'vaas', 'vacant', 'vainly', 'valuable', 'van', 'vandersay', 'vanitha', 'vanquished', 'varaiya', 'variety', 'varying', 'vasbert', 'vaughan', 'veda', 'veered', 'veering', 'veers', 'velocity', 'velvety', 'vendor', 'vengeance', 'venture', 'verbals', 'verma', 'version', 'verticalbat', 'vesawkar', 'vicinity', 'vicious', 'victim', 'vigil', 'vigorous', 'vihari', 'vijay', 'vikram', 'village', 'villagegreen', 'villiers', 'vim', 'vinays', 'vince', 'vincent', 'vincents', 'vinod', 'vintage', 'violence', 'violently', 'virat', 'virender', 'virtue', 'viru', 'visible', 'visit', 'vital', 'vittori', 'viv', 'vociferous', 'voer', 'vohra', 'vohras', 'volley', 'volume', 'vulnerable', 'vusi', 'wa', 'waaay', 'waca', 'wade', 'waft', 'wafted', 'wafting', 'wahab', 'wahabs', 'waist', 'waisthigh', 'waited', 'waiting', 'waka', 'wake', 'walk', 'walked', 'walking', 'wall', 'wallop', 'walloped', 'walloping', 'waltz', 'waltzed', 'wand', 'wandered', 'wanged', 'wankhede', 'want', 'wanted', 'waqas', 'ward', 'wardlaw', 'warm', 'warmed', 'warp', 'wary', 'wash', 'washington', 'wasnt', 'waste', 'wasted', 'wasting', 'watch', 'watched', 'watchful', 'watchfully', 'water', 'wath', 'watsom', 'watson', 'watto', 'waysay', 'wayward', 'wc', 'weakly', 'wearily', 'weasel', 'weasily', 'weaving', 'wedge', 'wee', 'week', 'weerakkody', 'weird', 'weith', 'welcome', 'welcomed', 'wellaimed', 'wellconcealed', 'welldeserved', 'welldirected', 'welldisguised', 'welldone', 'wellexecuted', 'wellhit', 'wellimprovised', 'welljudged', 'wellplaced', 'wellplayed', 'wellpositioned', 'wellrun', 'wellset', 'welly', 'went', 'werent', 'wesdjik', 'west', 'wet', 'whack', 'whacked', 'whacking', 'whataboss', 'whatabowler', 'whatsover', 'wheel', 'wheeled', 'wheelhouse', 'wheres', 'whew', 'whimper', 'whip', 'whiplash', 'whiplashsquaredrive', 'whipped', 'whippedcreamed', 'whipping', 'whippulls', 'whippy', 'whirl', 'whirling', 'whirly', 'whisk', 'whistle', 'whistled', 'whistling', 'whizzed', 'whoaa', 'whod', 'whodathunk', 'wholesomely', 'whooping', 'whoopsy', 'wi', 'wicket', 'wide', 'wided', 'wideish', 'wider', 'widesish', 'widest', 'widethe', 'widish', 'width', 'wiese', 'wilder', 'wildy', 'willamson', 'william', 'williamson', 'willing', 'wilting', 'wind', 'windassisted', 'windies', 'winding', 'wing', 'winged', 'winging', 'wink', 'winner', 'winning', 'wipe', 'wised', 'wisp', 'wit', 'withdraw', 'withdraws', 'withdrew', 'witheringly', 'witness', 'woah', 'wobble', 'wobbled', 'wobbling', 'woe', 'woeful', 'woefully', 'woken', 'woman', 'won', 'wonderful', 'wonderfully', 'wonderfullyplaced', 'wonky', 'wont', 'woof', 'wool', 'wooly', 'word', 'worked', 'working', 'worldcup', 'worried', 'worry', 'worrying', 'worryingly', 'worst', 'worthless', 'wouldbe', 'wow', 'wrap', 'wrapped', 'wrapper', 'wriddiman', 'wright', 'wring', 'wrist', 'wristily', 'wristiness', 'wristy', 'write', 'written', 'wrong', 'wronged', 'wrongun', 'wronguns', 'wrote', 'wry', 'wuff', 'wy', 'wyks', 'yank', 'yard', 'yardy', 'yardys', 'yasir', 'yawning', 'yeeerrrrr', 'yell', 'yellow', 'yelp', 'yes', 'yesterday', 'yield', 'yielding', 'yikes', 'yikesy', 'yip', 'york', 'yorked', 'yorker', 'yorkers', 'yorking', 'youd', 'youhana', 'youll', 'young', 'youngster', 'younis', 'youre', 'yousuf', 'youtube', 'youve', 'yubvraj', 'yup', 'yusuf', 'yusufs', 'yuvi', 'yuvraj', 'yuvrajs', 'yuzi', 'z', 'zadran', 'zak', 'zampas', 'zealand', 'zealous', 'zeberdee', 'zero', 'ziaur', 'zigzagging', 'zimbabwean', 'zing', 'zinged', 'zip', 'zipped', 'zippier', 'zipping', 'zone', 'zoom', 'zoomed', 'zoot', 'zuiderant', 'ãâ'] not in stop_words.\n",
      "  'stop_words.' % sorted(inconsistent))\n"
     ]
    }
   ],
   "source": [
    "from sklearn.feature_selection import SelectKBest, chi2\n",
    "\n",
    "feature_names2 = vectorizer.get_feature_names()\n",
    "\n",
    "ch2 = SelectKBest(chi2, k=150000)\n",
    "ch2.fit_transform(X, list(y_train))\n",
    "\n",
    "# keep selected feature names\n",
    "feature_names = [feature_names2[i-1] for i in ch2.get_support(indices=True)]\n",
    "\n",
    "remove = list(set(feature_names2)-set(feature_names))\n",
    "\n",
    "vectorizer = TfidfVectorizer(stop_words=ENGLISH_STOP_WORDS+remove,ngram_range=(1,2),tokenizer=LemmaTokenizer())\n",
    "\n",
    "X = vectorizer.fit_transform(corpus)\n",
    "X = hstack([X,np.array(X_train['Over_Run_Total3']).reshape((len(X_train),1))])\n",
    "#X = hstack([X,np.array(X_train['Over_Run_Total2']).reshape((len(X_train),1))])\n",
    "\n",
    "corpus_t = list(X_test[\"Commentary\"])\n",
    "corpus_t_length = []\n",
    "for c in range(len(corpus_t)):\n",
    "    corpus_t[c] = ' '.join(w for w in corpus_t[c].split() if not any(x.isdigit() for x in w))\n",
    "    corpus_t[c] = ' '.join(re.sub(r'[^\\d\\w\\s]','',w) for w in corpus_t[c].split() if len(w)>1)\n",
    "    corpus_t_length.append(len(corpus_t[c].split()))\n",
    "    \n",
    "X_t = vectorizer.transform(corpus_t)\n",
    "X_t = hstack([X_t,np.array(X_test['Over_Run_Total3']).reshape((len(X_test),1))])\n",
    "#X_t = hstack([X_t,np.array(X_test['Over_Run_Total2']).reshape((len(X_test),1))])"
   ]
  },
  {
   "cell_type": "code",
   "execution_count": 31,
   "metadata": {},
   "outputs": [
    {
     "data": {
      "image/png": "[encoded data removed]",
      "text/plain": [
       "<Figure size 432x288 with 1 Axes>"
      ]
     },
     "metadata": {
      "needs_background": "light"
     },
     "output_type": "display_data"
    }
   ],
   "source": [
    "import seaborn as sns\n",
    "%matplotlib inline\n",
    "X_test_analysis = X_test.copy()\n",
    "X_test_analysis['commentary_length'] = corpus_t_length \n",
    "X_test_analysis['target'] = y_test\n",
    "for t in list(set(y_test)):\n",
    "    sns.distplot(X_test_analysis['commentary_length'][X_test_analysis['target']==t],label=t)"
   ]
  },
  {
   "cell_type": "code",
   "execution_count": 9,
   "metadata": {},
   "outputs": [
    {
     "name": "stdout",
     "output_type": "stream",
     "text": [
      "MultinomialNB accuracy:   0.670\n",
      "BernoulliNB accuracy:   0.692\n",
      "ComplementNB accuracy:   0.662\n"
     ]
    },
    {
     "name": "stderr",
     "output_type": "stream",
     "text": [
      "/home/u1364688/anaconda3/lib/python3.7/site-packages/sklearn/linear_model/logistic.py:947: ConvergenceWarning: lbfgs failed to converge. Increase the number of iterations.\n",
      "  \"of iterations.\", ConvergenceWarning)\n"
     ]
    },
    {
     "name": "stdout",
     "output_type": "stream",
     "text": [
      "Logistic Regression accuracy:   0.731\n",
      "SVC accuracy:   0.728\n"
     ]
    }
   ],
   "source": [
    "from sklearn.naive_bayes import BernoulliNB, ComplementNB, MultinomialNB\n",
    "from sklearn import metrics\n",
    "\n",
    "clf = MultinomialNB(alpha=.01)\n",
    "clf.fit(X, list(y_train))\n",
    "pred = clf.predict(X_t)\n",
    "\n",
    "score = metrics.accuracy_score(list(y_test), pred)\n",
    "print(\"MultinomialNB accuracy:   %0.3f\" % score)\n",
    "\n",
    "clf = BernoulliNB(alpha=.01)\n",
    "clf.fit(X, list(y_train))\n",
    "pred = clf.predict(X_t)\n",
    "\n",
    "score = metrics.accuracy_score(list(y_test), pred)\n",
    "print(\"BernoulliNB accuracy:   %0.3f\" % score)\n",
    "\n",
    "clf = ComplementNB(alpha=.1)\n",
    "clf.fit(X, list(y_train))\n",
    "pred = clf.predict(X_t)\n",
    "\n",
    "score = metrics.accuracy_score(list(y_test), pred)\n",
    "print(\"ComplementNB accuracy:   %0.3f\" % score)\n",
    "\n",
    "from sklearn.linear_model import LogisticRegression\n",
    "\n",
    "clf = LogisticRegression(random_state=0, max_iter=100, solver='lbfgs',multi_class='multinomial').fit(X, list(y_train))\n",
    "pred = clf.predict(X_t)\n",
    "\n",
    "score = metrics.accuracy_score(list(y_test), pred)\n",
    "print(\"Logistic Regression accuracy:   %0.3f\" % score)\n",
    "#X_t.shape,X.shape\n",
    "from sklearn.multiclass import OneVsOneClassifier\n",
    "from sklearn.svm import LinearSVC\n",
    "\n",
    "pred = OneVsOneClassifier(LinearSVC(random_state=0)).fit(X, y_train).predict(X_t) \n",
    "score = metrics.accuracy_score(list(y_test), pred)\n",
    "print(\"SVC accuracy:   %0.3f\" % score)"
   ]
  },
  {
   "cell_type": "code",
   "execution_count": 10,
   "metadata": {},
   "outputs": [],
   "source": [
    "from sklearn.decomposition import NMF, LatentDirichletAllocation\n",
    "\n",
    "no_topics = 5      \n",
    "nmf = NMF(n_components=no_topics, random_state=1, alpha=.1, l1_ratio=.5, init='nndsvd').fit(X)"
   ]
  },
  {
   "cell_type": "code",
   "execution_count": 11,
   "metadata": {},
   "outputs": [
    {
     "name": "stdout",
     "output_type": "stream",
     "text": [
      "\n",
      "Topics in NMF model (Frobenius norm):\n",
      "Topic #0: ãâ la balcony sprung track widde land shoritsh worked packing past timbo longoffs muralitharans straigh fielder vusi sibanda\n",
      "Topic #1: lenght tapped shoritsh worked short lenght length balbirnie good lengh goneswanns brings length outisde balcony ãâ la length defence\n",
      "Topic #2: defenceand wa foor noball defended flintoff length defence outside defence defended bowled bowledim russell ãâ la ball defence defended foot\n",
      "Topic #3: drivemooney good outside drilling driven longoff driven longishon longlong time longoffs muralitharans ãâ la driven menace midmovement thud driven midoff\n",
      "Topic #4: outsde badree length outisde poin leeway stepping outside leeway ãâ la customer ball outfield outside drilling outside plonk\n",
      "\n"
     ]
    }
   ],
   "source": [
    "def print_top_words(model, feature_names, n_top_words):\n",
    "    for topic_idx, topic in enumerate(model.components_):\n",
    "        message = \"Topic #%d: \" % topic_idx\n",
    "        message += \" \".join([feature_names[i-1] for i in topic.argsort()[:-n_top_words - 1:-1]])\n",
    "        print(message)\n",
    "    print()\n",
    "    \n",
    "print(\"\\nTopics in NMF model (Frobenius norm):\")\n",
    "tfidf_feature_names = vectorizer.get_feature_names()\n",
    "print_top_words(nmf, tfidf_feature_names, n_top_words=10)"
   ]
  },
  {
   "cell_type": "code",
   "execution_count": null,
   "metadata": {},
   "outputs": [],
   "source": []
  }
 ],
 "metadata": {
  "kernelspec": {
   "display_name": "Python 3",
   "language": "python",
   "name": "python3"
  },
  "language_info": {
   "codemirror_mode": {
    "name": "ipython",
    "version": 3
   },
   "file_extension": ".py",
   "mimetype": "text/x-python",
   "name": "python",
   "nbconvert_exporter": "python",
   "pygments_lexer": "ipython3",
   "version": "3.7.3"
  }
 },
 "nbformat": 4,
 "nbformat_minor": 2
}
